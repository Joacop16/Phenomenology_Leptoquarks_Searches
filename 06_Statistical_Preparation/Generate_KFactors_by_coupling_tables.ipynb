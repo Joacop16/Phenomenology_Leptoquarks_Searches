{
 "cells": [
  {
   "cell_type": "markdown",
   "id": "ee99bd62-30d5-4972-a1aa-2ddc0a285bca",
   "metadata": {},
   "source": [
    "**<center> Joaquin Peñuela Parra, Cristian Fernando Rodriguez Cruz <center>**\n",
    "**<center> University of Los Andes <center>**\n",
    "**<center> High Energy Physics Group: Phenomenology of Particles <center>**"
   ]
  },
  {
   "cell_type": "code",
   "execution_count": null,
   "id": "501b1fdc-d274-41c9-ae64-a72428b7b02f",
   "metadata": {},
   "outputs": [],
   "source": [
    "import os\n",
    "import sys\n",
    "import numpy as np\n",
    "import pandas as pd"
   ]
  },
  {
   "cell_type": "code",
   "execution_count": null,
   "id": "83987d95-10c4-443d-9a77-67d1bbfe783b",
   "metadata": {},
   "outputs": [],
   "source": [
    "path_signal_production = os.path.join(os.path.dirname(os.getcwd()), '01_signal_production')\n",
    "path_statistical_preparation = os.path.join(os.path.dirname(os.getcwd()), '06_Statistical_Preparation')"
   ]
  },
  {
   "cell_type": "code",
   "execution_count": null,
   "id": "16a95b56-9536-4d78-832d-eb311646f6ee",
   "metadata": {},
   "outputs": [],
   "source": [
    "folders = {'wRHC': 'Data_Generation_wRHC', 'woRHC': 'Data_Generation_woRHC'}\n",
    "signals = ['lq_lq', 'lq_ta', 'ta_ta']\n",
    "\n",
    "g_U = np.arange(1/16, 3.5 + 1/16, 1/16)"
   ]
  },
  {
   "cell_type": "code",
   "execution_count": null,
   "id": "d64a18cd-0d00-430c-8e64-9cdc7178ac41",
   "metadata": {},
   "outputs": [],
   "source": [
    "for betard in folders.keys():\n",
    "    for signal in signals:\n",
    "        data = pd.read_csv(f'{path_signal_production}/{folders[betard]}/Data_5K_13_TeV/{signal}/Cross_Sections/XS_Matriz.csv', index_col= 0)\n",
    "        data.index = [float(fila) for fila in data.index]\n",
    "        data.columns = [float(col) for col in data.columns]\n",
    "        \n",
    "        KFactor = {}\n",
    "        for col in data.columns:\n",
    "            KFactor[col] = {}\n",
    "            for fila in g_U:\n",
    "                KFactor[col][fila] = data[col][fila]/data[col][1.8]\n",
    "        \n",
    "        KFactor = pd.DataFrame.from_dict(KFactor)\n",
    "        KFactor = KFactor.sort_index(ascending = True)\n",
    "        \n",
    "        path_file = f'{path_statistical_preparation}/KFactors_by_coupling/{betard}/{signal}'.replace('lq_lq', 'Lq_Lq').replace('lq_ta', 'tau_Lq').replace('ta_ta', 'tau_tau')\n",
    "        KFactor.to_csv(f'{path_file}.csv')\n",
    "        KFactor.to_excel(f'{path_file}.xlsx')"
   ]
  }
 ],
 "metadata": {
  "kernelspec": {
   "display_name": "Python 3 (ipykernel)",
   "language": "python",
   "name": "python3"
  },
  "language_info": {
   "codemirror_mode": {
    "name": "ipython",
    "version": 3
   },
   "file_extension": ".py",
   "mimetype": "text/x-python",
   "name": "python",
   "nbconvert_exporter": "python",
   "pygments_lexer": "ipython3",
   "version": "3.9.4"
  }
 },
 "nbformat": 4,
 "nbformat_minor": 5
}
