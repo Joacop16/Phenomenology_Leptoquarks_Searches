{
 "cells": [
  {
   "cell_type": "markdown",
   "id": "ee99bd62-30d5-4972-a1aa-2ddc0a285bca",
   "metadata": {},
   "source": [
    "**<center> Joaquin Peñuela Parra, Cristian Fernando Rodriguez Cruz <center>**\n",
    "**<center> University of Los Andes <center>**\n",
    "**<center> High Energy Physics Group: Phenomenology of Particles <center>**"
   ]
  },
  {
   "cell_type": "code",
   "execution_count": 1,
   "id": "501b1fdc-d274-41c9-ae64-a72428b7b02f",
   "metadata": {},
   "outputs": [],
   "source": [
    "import os\n",
    "import sys\n",
    "import numpy as np\n",
    "import pandas as pd\n",
    "\n",
    "# !git clone https://github.com/Phenomenology-group-uniandes/Heatmap_Utilities.git\n",
    "# import nbimporter\n",
    "# sys.path.append(f'{os.getcwd()}/Heatmap_Utilities')\n",
    "# from Heatmap_Utilities.Main_Functions import smooth, plot_heatmap"
   ]
  },
  {
   "cell_type": "code",
   "execution_count": 2,
   "id": "83987d95-10c4-443d-9a77-67d1bbfe783b",
   "metadata": {},
   "outputs": [],
   "source": [
    "path_signal_production = os.path.join(os.path.dirname(os.getcwd()), '01_signal_production')\n",
    "path_statistical_preparation = os.path.join(os.path.dirname(os.getcwd()), '06_Statistical_Preparation')"
   ]
  },
  {
   "cell_type": "code",
   "execution_count": 3,
   "id": "16a95b56-9536-4d78-832d-eb311646f6ee",
   "metadata": {},
   "outputs": [],
   "source": [
    "folders = {'wRHC': 'Data_Generation_wRHC', 'woRHC': 'Data_Generation_woRHC'}\n",
    "signals = ['lq_lq', 'lq_ta', 'ta_ta']\n",
    "\n",
    "g_U = [float(g) for g in [\"0.25\", \"0.5\", \"1.0\", \"1.5\", \"1.8\", \"2.0\", \"2.5\", \"3.0\", \"3.5\"]]\n",
    "g_U = [g for g in np.arange(0.25, 3.5 + 1/4, 1/4)] + [1.8]"
   ]
  },
  {
   "cell_type": "code",
   "execution_count": 4,
   "id": "d64a18cd-0d00-430c-8e64-9cdc7178ac41",
   "metadata": {
    "tags": []
   },
   "outputs": [],
   "source": [
    "for betard in folders.keys():\n",
    "    for signal in signals:\n",
    "        data = pd.read_csv(f'{path_signal_production}/{folders[betard]}/Data_5K_13_TeV/{signal}/Cross_Sections/XS_Matriz.csv', index_col= 0)\n",
    "        data.index = [float(fila) for fila in data.index]\n",
    "        data.columns = [float(col) for col in data.columns]\n",
    "                \n",
    "        KFactor = {}\n",
    "        for col in data.columns:\n",
    "            KFactor[col] = {}\n",
    "            for fila in g_U:\n",
    "                KFactor[col][fila] = data[col][fila]/data[col][1.8]\n",
    "        \n",
    "        KFactor = pd.DataFrame.from_dict(KFactor)\n",
    "        KFactor = KFactor.sort_index(ascending = True)\n",
    "        \n",
    "        path_file = f'{path_statistical_preparation}/KFactors_by_coupling/13_TeV/{betard}/{signal}'.replace('lq_lq', 'Lq_Lq').replace('lq_ta', 'tau_Lq').replace('ta_ta', 'tau_tau')\n",
    "        KFactor.to_csv(f'{path_file}.csv')\n",
    "        KFactor.to_excel(f'{path_file}.xlsx')"
   ]
  },
  {
   "cell_type": "code",
   "execution_count": 5,
   "id": "f172e152-6d45-468d-9486-e51b5ccdd591",
   "metadata": {},
   "outputs": [],
   "source": [
    "for betard in folders.keys():\n",
    "    for signal in signals:\n",
    "        data_13 = pd.read_csv(f'{path_signal_production}/{folders[betard]}/Data_5K_13_TeV/{signal}/Cross_Sections/XS_Matriz.csv', index_col= 0)\n",
    "        data_13.index = [float(fila) for fila in data_13.index]\n",
    "        data_13.columns = [float(col) for col in data_13.columns]\n",
    "        \n",
    "        data_13_6 = pd.read_csv(f'{path_signal_production}/{folders[betard]}/Data_5K_13_6_TeV/{signal}/Cross_Sections/XS_Matriz.csv', index_col= 0)\n",
    "        data_13_6.index = [float(fila) for fila in data_13_6.index]\n",
    "        data_13_6.columns = [float(col) for col in data_13_6.columns]\n",
    "        \n",
    "        KFactor = {}\n",
    "        for col in data_13.columns:\n",
    "            KFactor[col] = {}\n",
    "            for fila in g_U:\n",
    "                KFactor[col][fila] = data_13_6[col][fila]/data_13[col][1.8]\n",
    "        \n",
    "        KFactor = pd.DataFrame.from_dict(KFactor)\n",
    "        KFactor = KFactor.sort_index(ascending = True)\n",
    "        \n",
    "        path_file = f'{path_statistical_preparation}/KFactors_by_coupling/13_6_TeV/{betard}/{signal}'.replace('lq_lq', 'Lq_Lq').replace('lq_ta', 'tau_Lq').replace('ta_ta', 'tau_tau')\n",
    "        KFactor.to_csv(f'{path_file}.csv')\n",
    "        KFactor.to_excel(f'{path_file}.xlsx')"
   ]
  },
  {
   "cell_type": "code",
   "execution_count": 6,
   "id": "c80999ef-1eb1-4fda-83ca-bcda2e7d8df4",
   "metadata": {},
   "outputs": [],
   "source": [
    "# for betard in folders.keys():\n",
    "#     for signal in signals:\n",
    "#         data_13 = pd.read_csv(f'{path_signal_production}/{folders[betard]}/Data_5K_13_TeV/{signal}/Cross_Sections/XS_Matriz.csv', index_col= 0)\n",
    "#         data_13.index = [float(fila) for fila in data_13.index]\n",
    "#         data_13.columns = [float(col) for col in data_13.columns]\n",
    "        \n",
    "#         data_13_6 = pd.read_csv(f'{path_signal_production}/{folders[betard]}/Data_5K_13_6_TeV/{signal}/Cross_Sections/XS_Matriz.csv', index_col= 0)\n",
    "#         data_13_6.index = [float(fila) for fila in data_13_6.index]\n",
    "#         data_13_6.columns = [float(col) for col in data_13_6.columns]    \n",
    "        \n",
    "#         KFactor = {}\n",
    "#         for col in data_13.columns:\n",
    "#             KFactor[col] = {}\n",
    "#             for fila in g_U:\n",
    "#                 KFactor[col][fila] = data_13_6[col][fila]/data_13[col][fila]\n",
    "        \n",
    "#         KFactor = pd.DataFrame.from_dict(KFactor)\n",
    "#         KFactor = KFactor.sort_index(ascending = True)\n",
    "        \n",
    "#         path_file = f'{path_statistical_preparation}/KFactors_13_6_TeV/{betard}/{signal}'.replace('lq_lq', 'Lq_Lq').replace('lq_ta', 'tau_Lq').replace('ta_ta', 'tau_tau')\n",
    "#         KFactor.to_csv(f'{path_file}.csv')\n",
    "#         KFactor.to_excel(f'{path_file}.xlsx')"
   ]
  }
 ],
 "metadata": {
  "kernelspec": {
   "display_name": "Python 3 (ipykernel)",
   "language": "python",
   "name": "python3"
  },
  "language_info": {
   "codemirror_mode": {
    "name": "ipython",
    "version": 3
   },
   "file_extension": ".py",
   "mimetype": "text/x-python",
   "name": "python",
   "nbconvert_exporter": "python",
   "pygments_lexer": "ipython3",
   "version": "3.10.6"
  }
 },
 "nbformat": 4,
 "nbformat_minor": 5
}
