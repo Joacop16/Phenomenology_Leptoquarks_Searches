{
 "cells": [
  {
   "cell_type": "code",
   "execution_count": 1,
   "id": "b76b9991-3593-49fb-8e0b-246f25633b45",
   "metadata": {
    "tags": []
   },
   "outputs": [],
   "source": [
    "import numpy as np\n",
    "\n",
    "def approx_global_sig(sig: np.array, bkg: np.array, N: float = 0.0) -> float:\n",
    "    \"\"\"\n",
    "    Calculates the statistical significance of a signal over background in a given dataset using a modified version of\n",
    "    the formula (S -N sqrt(B))/sqrt(S+B), where S is the number of signal events, B is the number of background events,\n",
    "    and N is the expected number of background events in the signal region.\n",
    "\n",
    "    Parameters:\n",
    "    sig (np.array): 1D array containing the number of signal events in each bin of the dataset.\n",
    "    bkg (np.array): 1D array containing the number of background events in each bin of the dataset.\n",
    "    N (float): Expected number of background events in the signal region. Default value is 0.0.\n",
    "\n",
    "    Returns:\n",
    "    float: The statistical significance of the signal over background in the dataset.\n",
    "    \"\"\"\n",
    "\n",
    "    # calculate weight factor w for each bin\n",
    "    w = np.log(1. + sig/(bkg + 1e-9))\n",
    "\n",
    "    # calculate intermediate quantities\n",
    "    s_w = sig * w\n",
    "    b_w = bkg * w\n",
    "    s_ww = sig * w ** 2\n",
    "    b_ww = bkg * w ** 2\n",
    "\n",
    "    # calculate numerator and denominator of modified formula\n",
    "    num = np.sum(s_w) - N * np.sqrt(np.sum(b_ww))\n",
    "    den = np.sqrt(np.sum(s_ww + b_ww))\n",
    "\n",
    "    # calculate statistical significance and return it\n",
    "    return num / den\n"
   ]
  },
  {
   "cell_type": "code",
   "execution_count": 2,
   "id": "76a66c26-ce22-4a6d-a2b3-5d8f7c052dae",
   "metadata": {
    "tags": []
   },
   "outputs": [],
   "source": [
    "s=np.array([1,2,3,4,5,6,7,8,19,25])\n",
    "b=np.array([13,10,9,8,8,4,2,3,1,1])"
   ]
  },
  {
   "cell_type": "code",
   "execution_count": 3,
   "id": "c3736801-2ff4-45a6-9fd2-85c3111133b8",
   "metadata": {
    "tags": []
   },
   "outputs": [
    {
     "data": {
      "text/plain": [
       "7.498759554825828"
      ]
     },
     "execution_count": 3,
     "metadata": {},
     "output_type": "execute_result"
    }
   ],
   "source": [
    "approx_global_sig(s,b, 0.15)"
   ]
  },
  {
   "cell_type": "code",
   "execution_count": 4,
   "id": "460e50f1-889a-4a8a-a11b-04708bd92a62",
   "metadata": {
    "tags": []
   },
   "outputs": [],
   "source": [
    "import numpy as np\n",
    "\n",
    "def rebin_histogram(hist_2n):\n",
    "    \"\"\"\n",
    "    Re-bins a histogram with 2n bins to n bins.\n",
    "\n",
    "    Parameters:\n",
    "    hist_2n (numpy array): 1D numpy array containing the histogram with 2n bins.\n",
    "\n",
    "    Returns:\n",
    "    numpy array: 1D numpy array containing the re-binned histogram with n bins.\n",
    "\n",
    "    \"\"\"\n",
    "\n",
    "    # Check that the input histogram has an even number of bins\n",
    "    assert len(hist_2n) % 2 == 0, \"Input histogram must have an even number of bins.\"\n",
    "\n",
    "    # Reshape the input histogram to a 2D array with two columns\n",
    "    hist_2n = hist_2n.reshape(-1, 2)\n",
    "\n",
    "    # Sum the values in each row of the 2D array to re-bin the histogram\n",
    "    hist_n = np.sum(hist_2n, axis=1)\n",
    "\n",
    "    return hist_n\n"
   ]
  },
  {
   "cell_type": "code",
   "execution_count": 5,
   "id": "97a0be6e-9fa9-4765-842e-63025d494edf",
   "metadata": {
    "tags": []
   },
   "outputs": [],
   "source": [
    "s=rebin_histogram(s)\n",
    "b=rebin_histogram(b)"
   ]
  },
  {
   "cell_type": "code",
   "execution_count": 6,
   "id": "db03fcbd-c4c4-4882-b92e-de0425d4fb78",
   "metadata": {
    "tags": []
   },
   "outputs": [
    {
     "data": {
      "text/plain": [
       "7.476299421592801"
      ]
     },
     "execution_count": 6,
     "metadata": {},
     "output_type": "execute_result"
    }
   ],
   "source": [
    "approx_global_sig(s,b,N=0.15)"
   ]
  },
  {
   "cell_type": "code",
   "execution_count": 7,
   "id": "480d4562-01f9-4c00-aee3-ff4087ccbb76",
   "metadata": {},
   "outputs": [],
   "source": [
    "import os\n",
    "path_to_txt = os.path.join(os.getcwd(),\"Histograms\",\"hadronic_non-resonant\",\"M1250\")"
   ]
  },
  {
   "cell_type": "code",
   "execution_count": 8,
   "id": "4c6dd800-0fe8-40ad-b04f-3f30dfb415a3",
   "metadata": {
    "tags": []
   },
   "outputs": [
    {
     "name": "stdout",
     "output_type": "stream",
     "text": [
      "high_per_bin_Combined.txt  high_per_bin_V+jets.txt  high_per_bin_tau_tau.txt\n",
      "high_per_bin_Diboson.txt   high_per_bin_stop.txt    high_per_bin_tbart.txt\n",
      "high_per_bin_Lq_Lq.txt\t   high_per_bin_tau_Lq.txt\n"
     ]
    }
   ],
   "source": [
    "!ls {path_to_txt}"
   ]
  },
  {
   "cell_type": "code",
   "execution_count": 9,
   "id": "277dfed3-6dab-4644-8020-676952dc25f4",
   "metadata": {
    "tags": []
   },
   "outputs": [],
   "source": [
    "sig1 = np.loadtxt(os.path.join(path_to_txt,\"high_per_bin_Lq_Lq.txt\"))\n",
    "sig1+= np.loadtxt(os.path.join(path_to_txt,\"high_per_bin_tau_Lq.txt\"))\n",
    "sig1+= np.loadtxt(os.path.join(path_to_txt,\"high_per_bin_tau_tau.txt\"))\n",
    "bkg1 = np.loadtxt(os.path.join(path_to_txt,\"high_per_bin_Diboson.txt\"))\n",
    "bkg1+= np.loadtxt(os.path.join(path_to_txt,\"high_per_bin_V+jets.txt\"))\n",
    "bkg1+= np.loadtxt(os.path.join(path_to_txt,\"high_per_bin_stop.txt\"))\n",
    "bkg1+= np.loadtxt(os.path.join(path_to_txt,\"high_per_bin_tbart.txt\"))"
   ]
  },
  {
   "cell_type": "code",
   "execution_count": 10,
   "id": "2e8ab4f9-2bb2-45a4-9ea0-42fae3c039c7",
   "metadata": {
    "tags": []
   },
   "outputs": [
    {
     "data": {
      "text/plain": [
       "15.478900861416191"
      ]
     },
     "execution_count": 10,
     "metadata": {},
     "output_type": "execute_result"
    }
   ],
   "source": [
    "approx_global_sig(sig1,bkg1)"
   ]
  },
  {
   "cell_type": "code",
   "execution_count": 11,
   "id": "fdd27210-6379-415c-9342-1f09f23ecda4",
   "metadata": {
    "tags": []
   },
   "outputs": [],
   "source": [
    "path_to_txt =path_to_txt = os.path.join(os.getcwd(),\"Histograms\",\"hadronic_sLQ\",\"M1250\")\n",
    "sig2 = np.loadtxt(os.path.join(path_to_txt,\"high_per_bin_Lq_Lq.txt\"))\n",
    "sig2+= np.loadtxt(os.path.join(path_to_txt,\"high_per_bin_tau_Lq.txt\"))\n",
    "sig2+= np.loadtxt(os.path.join(path_to_txt,\"high_per_bin_tau_tau.txt\"))\n",
    "bkg2 = np.loadtxt(os.path.join(path_to_txt,\"high_per_bin_Diboson.txt\"))\n",
    "bkg2+= np.loadtxt(os.path.join(path_to_txt,\"high_per_bin_V+jets.txt\"))\n",
    "bkg2+= np.loadtxt(os.path.join(path_to_txt,\"high_per_bin_stop.txt\"))\n",
    "bkg2+= np.loadtxt(os.path.join(path_to_txt,\"high_per_bin_tbart.txt\"))"
   ]
  },
  {
   "cell_type": "code",
   "execution_count": 12,
   "id": "4ad1f016-6c80-4c92-aae0-ded47808f5c5",
   "metadata": {
    "tags": []
   },
   "outputs": [
    {
     "data": {
      "text/plain": [
       "16.5421953513909"
      ]
     },
     "execution_count": 12,
     "metadata": {},
     "output_type": "execute_result"
    }
   ],
   "source": [
    "approx_global_sig(sig2,bkg2)"
   ]
  },
  {
   "cell_type": "code",
   "execution_count": 13,
   "id": "c18e74fe-4096-44e7-9f62-6bf76a76bc78",
   "metadata": {},
   "outputs": [],
   "source": [
    "path_to_txt =path_to_txt = os.path.join(os.getcwd(),\"Histograms\",\"hadronic_non-resonant\",\"M1250\")\n",
    "sig3 = np.loadtxt(os.path.join(path_to_txt,\"high_per_bin_Lq_Lq.txt\"))\n",
    "sig3+= np.loadtxt(os.path.join(path_to_txt,\"high_per_bin_tau_Lq.txt\"))\n",
    "sig3+= np.loadtxt(os.path.join(path_to_txt,\"high_per_bin_tau_tau.txt\"))\n",
    "bkg3 = np.loadtxt(os.path.join(path_to_txt,\"high_per_bin_Diboson.txt\"))\n",
    "bkg3+= np.loadtxt(os.path.join(path_to_txt,\"high_per_bin_V+jets.txt\"))\n",
    "bkg3+= np.loadtxt(os.path.join(path_to_txt,\"high_per_bin_stop.txt\"))\n",
    "bkg3+= np.loadtxt(os.path.join(path_to_txt,\"high_per_bin_tbart.txt\"))"
   ]
  },
  {
   "cell_type": "code",
   "execution_count": 14,
   "id": "501dea2d-5aa6-4006-8980-74ef3ce46475",
   "metadata": {},
   "outputs": [
    {
     "data": {
      "text/plain": [
       "15.478900861416191"
      ]
     },
     "execution_count": 14,
     "metadata": {},
     "output_type": "execute_result"
    }
   ],
   "source": [
    "approx_global_sig(sig3,bkg3)"
   ]
  },
  {
   "cell_type": "code",
   "execution_count": 15,
   "id": "adf20645-25e1-474d-8871-13b4a358106b",
   "metadata": {},
   "outputs": [],
   "source": [
    "sig = np.concatenate((sig1,sig2,sig3))\n",
    "bkg = np.concatenate((bkg1,bkg2,bkg3))"
   ]
  },
  {
   "cell_type": "code",
   "execution_count": 16,
   "id": "1a4f7a58-0f8e-4d38-ad7e-c4a573ecca9a",
   "metadata": {
    "tags": []
   },
   "outputs": [
    {
     "data": {
      "text/plain": [
       "27.25090950371868"
      ]
     },
     "execution_count": 16,
     "metadata": {},
     "output_type": "execute_result"
    }
   ],
   "source": [
    "approx_global_sig(sig,bkg)"
   ]
  },
  {
   "cell_type": "code",
   "execution_count": 17,
   "id": "332382bb-0b42-4f04-a13e-08096907e362",
   "metadata": {
    "tags": []
   },
   "outputs": [
    {
     "data": {
      "text/plain": [
       "27.43787475003632"
      ]
     },
     "execution_count": 17,
     "metadata": {},
     "output_type": "execute_result"
    }
   ],
   "source": [
    "np.sqrt(approx_global_sig(sig1,bkg1)**2 + approx_global_sig(sig2,bkg2)**2 + approx_global_sig(sig3,bkg3)**2)"
   ]
  },
  {
   "cell_type": "code",
   "execution_count": null,
   "id": "b385a528-d325-4f08-be86-383adbd2fec8",
   "metadata": {},
   "outputs": [],
   "source": []
  }
 ],
 "metadata": {
  "kernelspec": {
   "display_name": "Python 3 (ipykernel)",
   "language": "python",
   "name": "python3"
  },
  "language_info": {
   "codemirror_mode": {
    "name": "ipython",
    "version": 3
   },
   "file_extension": ".py",
   "mimetype": "text/x-python",
   "name": "python",
   "nbconvert_exporter": "python",
   "pygments_lexer": "ipython3",
   "version": "3.9.4"
  }
 },
 "nbformat": 4,
 "nbformat_minor": 5
}
