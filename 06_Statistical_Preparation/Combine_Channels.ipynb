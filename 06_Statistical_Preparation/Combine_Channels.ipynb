{
 "cells": [
  {
   "cell_type": "code",
   "execution_count": 1,
   "id": "95eed79c-9344-4fb2-afdf-5ca7998e5406",
   "metadata": {
    "tags": []
   },
   "outputs": [],
   "source": [
    "import os\n",
    "import pathlib\n",
    "import numpy as np"
   ]
  },
  {
   "cell_type": "code",
   "execution_count": 2,
   "id": "68280544-1f33-4a90-ab2a-67095c982cc8",
   "metadata": {
    "tags": []
   },
   "outputs": [],
   "source": [
    "folder_path = pathlib.Path(os.path.join(os.getcwd(),\"Histograms\"))"
   ]
  },
  {
   "cell_type": "code",
   "execution_count": 3,
   "id": "d3ee6323-af54-4fec-bb8e-9ce6538f49cb",
   "metadata": {
    "tags": []
   },
   "outputs": [
    {
     "data": {
      "text/plain": [
       "['semileptonic_sLQ',\n",
       " 'semileptonic_dLQ',\n",
       " 'hadronic_non-resonant',\n",
       " 'hadronic_sLQ',\n",
       " 'hadronic_dLQ',\n",
       " 'semileptonic_non-resonant']"
      ]
     },
     "execution_count": 3,
     "metadata": {},
     "output_type": "execute_result"
    }
   ],
   "source": [
    "channel_list = list(os.walk(folder_path))[0][1]\n",
    "channel_list"
   ]
  },
  {
   "cell_type": "code",
   "execution_count": 4,
   "id": "505fd975-740d-40b8-a5ef-9bd8c8549e18",
   "metadata": {
    "tags": []
   },
   "outputs": [
    {
     "data": {
      "text/plain": [
       "[1000, 1250, 1500, 1750, 2000, 2250, 2500]"
      ]
     },
     "execution_count": 4,
     "metadata": {},
     "output_type": "execute_result"
    }
   ],
   "source": [
    "masses = list(range(1000,2500+250,250))\n",
    "masses"
   ]
  },
  {
   "cell_type": "code",
   "execution_count": 5,
   "id": "97c09f72-6350-4a87-acd9-b26debdfd02f",
   "metadata": {
    "tags": []
   },
   "outputs": [],
   "source": [
    "save_folder=\"txt_files\"\n",
    "\n",
    "for mass in masses:\n",
    "    mass_path = os.path.join(folder_path,channel_list[0],f\"M{mass}\")\n",
    "    histos_files_list = list(os.walk(mass_path))[0][2]\n",
    "    \n",
    "    for file in histos_files_list:\n",
    "        Matrix_Signal = np.zeros([49,6])\n",
    "        for n, channel in enumerate(channel_list):\n",
    "            mass_path = os.path.join(folder_path,channel,f\"M{mass}\")\n",
    "            path_to_txt = os.path.join(mass_path,file)\n",
    "            Matrix_Signal[:, n] =  np.loadtxt(path_to_txt)\n",
    "        sum_file = np.asarray(Matrix_Signal.reshape((1,49*6)))\n",
    "        sum_folder=os.path.join(save_folder,f\"M{mass}\")\n",
    "        os.makedirs(sum_folder,exist_ok=True)\n",
    "        np.savetxt(os.path.join(sum_folder,file),sum_file)\n",
    "        "
   ]
  },
  {
   "cell_type": "code",
   "execution_count": null,
   "id": "34a5700a-c06e-4934-8fba-ed3c2fc323b4",
   "metadata": {},
   "outputs": [],
   "source": []
  }
 ],
 "metadata": {
  "kernelspec": {
   "display_name": "Python 3 (ipykernel)",
   "language": "python",
   "name": "python3"
  },
  "language_info": {
   "codemirror_mode": {
    "name": "ipython",
    "version": 3
   },
   "file_extension": ".py",
   "mimetype": "text/x-python",
   "name": "python",
   "nbconvert_exporter": "python",
   "pygments_lexer": "ipython3",
   "version": "3.9.4"
  }
 },
 "nbformat": 4,
 "nbformat_minor": 5
}
