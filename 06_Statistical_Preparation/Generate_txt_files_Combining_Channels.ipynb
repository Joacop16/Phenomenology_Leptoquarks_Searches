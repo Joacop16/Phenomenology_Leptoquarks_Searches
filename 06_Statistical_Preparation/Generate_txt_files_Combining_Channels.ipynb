{
 "cells": [
  {
   "cell_type": "markdown",
   "id": "3da71959-752e-4e05-a0a0-688d4d7aed1a",
   "metadata": {},
   "source": [
    "**<center> Joaquin Peñuela Parra, Cristian Fernando Rodriguez Cruz <center>**\n",
    "**<center> University of Los Andes <center>**\n",
    "**<center> High Energy Physics Group: Phenomenology of Particles <center>**\n",
    "\n",
    "This code was written to be running in Docker. If you do not have a Docker inside hep-server2 please refer to: https://github.com/Phenomenology-group-uniandes/Tutoriales_Generales"
   ]
  },
  {
   "cell_type": "code",
   "execution_count": 1,
   "id": "95eed79c-9344-4fb2-afdf-5ca7998e5406",
   "metadata": {
    "tags": []
   },
   "outputs": [],
   "source": [
    "import os\n",
    "import pathlib\n",
    "import numpy as np"
   ]
  },
  {
   "cell_type": "code",
   "execution_count": 2,
   "id": "68280544-1f33-4a90-ab2a-67095c982cc8",
   "metadata": {
    "tags": []
   },
   "outputs": [],
   "source": [
    "folder_path_by_betard = {'wRHC': pathlib.Path(os.path.join(os.getcwd(),\"Histograms\")), \n",
    "                         'woRHC': pathlib.Path(os.path.join(os.getcwd(),\"Histograms_wo_RHC\"))}"
   ]
  },
  {
   "cell_type": "code",
   "execution_count": 3,
   "id": "d3ee6323-af54-4fec-bb8e-9ce6538f49cb",
   "metadata": {
    "tags": []
   },
   "outputs": [],
   "source": [
    "channel_list = [\"hadronic_dLQ\", \"hadronic_sLQ\", \"hadronic_non-resonant\", \"semileptonic_dLQ\", \"semileptonic_sLQ\", \"semileptonic_non-resonant\"]\n",
    "masses = list(range(1000,2500+250,250))\n",
    "# masses"
   ]
  },
  {
   "cell_type": "code",
   "execution_count": 4,
   "id": "97c09f72-6350-4a87-acd9-b26debdfd02f",
   "metadata": {
    "tags": []
   },
   "outputs": [],
   "source": [
    "for key in folder_path_by_betard:\n",
    "\n",
    "    save_folder= f\"txt_files_{key}\"\n",
    "    folder_path = folder_path_by_betard[key]\n",
    "    \n",
    "    for mass in masses:\n",
    "        mass_path = os.path.join(folder_path,channel_list[0],f\"M{mass}\")\n",
    "        histos_files_list = list(os.walk(mass_path))[0][2]\n",
    "\n",
    "        for file in histos_files_list:\n",
    "\n",
    "            Matrix_Signal = np.zeros([49,6])\n",
    "\n",
    "            for n, channel in enumerate(channel_list):\n",
    "                mass_path = os.path.join(folder_path,channel,f\"M{mass}\")\n",
    "\n",
    "                path_to_txt = os.path.join(mass_path,file)\n",
    "                Matrix_Signal[:, n] =  np.loadtxt(path_to_txt)\n",
    "\n",
    "            sum_file = np.asarray(Matrix_Signal.reshape((49*6)))\n",
    "\n",
    "            sum_folder=os.path.join(save_folder,f\"M{mass}\")\n",
    "            os.makedirs(sum_folder,exist_ok=True)\n",
    "            np.savetxt(os.path.join(sum_folder,file),sum_file)"
   ]
  },
  {
   "cell_type": "code",
   "execution_count": null,
   "id": "6ab38321-a3b9-4205-82a1-d307bbcef926",
   "metadata": {},
   "outputs": [],
   "source": []
  }
 ],
 "metadata": {
  "kernelspec": {
   "display_name": "Python 3 (ipykernel)",
   "language": "python",
   "name": "python3"
  },
  "language_info": {
   "codemirror_mode": {
    "name": "ipython",
    "version": 3
   },
   "file_extension": ".py",
   "mimetype": "text/x-python",
   "name": "python",
   "nbconvert_exporter": "python",
   "pygments_lexer": "ipython3",
   "version": "3.9.4"
  }
 },
 "nbformat": 4,
 "nbformat_minor": 5
}
