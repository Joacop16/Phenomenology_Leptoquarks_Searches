{
 "cells": [
  {
   "cell_type": "code",
   "execution_count": 1,
   "id": "3e4fb98e-d94e-41fb-bf3e-5aed7f370687",
   "metadata": {},
   "outputs": [],
   "source": [
    "import os\n",
    "import pandas as pd\n",
    "\n",
    "Path_Leptoquarks_searches = os.path.dirname(os.path.dirname(os.path.realpath('N_events.ipynb')))"
   ]
  },
  {
   "cell_type": "code",
   "execution_count": 2,
   "id": "656c386b-bccb-4d08-9868-b5ff3e558f70",
   "metadata": {},
   "outputs": [],
   "source": [
    "try: os.mkdir('N_events')\n",
    "except: pass"
   ]
  },
  {
   "cell_type": "code",
   "execution_count": 3,
   "id": "d0482dc3-c53d-4198-91bf-1980826fc6ad",
   "metadata": {},
   "outputs": [],
   "source": [
    "channels = [\"hadronic_dLQ\", \"hadronic_sLQ\", \"hadronic_non-resonant\", \"semileptonic_dLQ\", \"semileptonic_sLQ\", \"semileptonic_non-resonant\"]"
   ]
  },
  {
   "cell_type": "code",
   "execution_count": 4,
   "id": "1a39b170-b67a-46d5-926e-e8935110f8f3",
   "metadata": {},
   "outputs": [],
   "source": [
    "Luminosity = 137*1000\n",
    "\n",
    "for channel in channels:\n",
    "    cutflows_path = os.path.join(Path_Leptoquarks_searches, '03_delphes_preselection/Cutflows', f'{channel}.csv')\n",
    "    cutflows_file = pd.read_csv(cutflows_path, index_col= 0)\n",
    "    cutflows_file = cutflows_file.dropna()\n",
    "    \n",
    "    columns = cutflows_file.columns\n",
    "    index = cutflows_file.index\n",
    "    \n",
    "    N_events = cutflows_file.copy()\n",
    "    N_events.columns = columns\n",
    "    N_events.index = index\n",
    "    \n",
    "    for signal in columns:\n",
    "        XS = cutflows_file[signal]['XS']\n",
    "        for cut in list(index)[1:]:\n",
    "            Efficience = cutflows_file[signal][cut]/cutflows_file[signal]['All']\n",
    "            N_events[signal][cut] = Efficience*XS*Luminosity \n",
    "            \n",
    "    N_events.to_csv(f'N_events/{channel}.csv')    "
   ]
  }
 ],
 "metadata": {
  "kernelspec": {
   "display_name": "Python 3 (ipykernel)",
   "language": "python",
   "name": "python3"
  },
  "language_info": {
   "codemirror_mode": {
    "name": "ipython",
    "version": 3
   },
   "file_extension": ".py",
   "mimetype": "text/x-python",
   "name": "python",
   "nbconvert_exporter": "python",
   "pygments_lexer": "ipython3",
   "version": "3.9.4"
  }
 },
 "nbformat": 4,
 "nbformat_minor": 5
}
