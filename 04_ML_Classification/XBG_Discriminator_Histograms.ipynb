{
 "cells": [
  {
   "cell_type": "markdown",
   "id": "c6716b3b-5f41-4a4c-af1e-69ff2502c918",
   "metadata": {},
   "source": [
    "$$\\textrm{Joaquin Peñuela Parraz}$$\n",
    "$$\\textrm{University of Los Andes}$$\n",
    "$$\\textrm{High Energy Physics Group: Phenomenology of Particles}$$\n",
    "\n",
    "This code was written to be running in Docker. If you do not have a Docker inside hep-server2 please refer to: https://github.com/Phenomenology-group-uniandes/Tutoriales_Generales"
   ]
  },
  {
   "cell_type": "code",
   "execution_count": 1,
   "id": "753a5d42-946a-43d2-8a9f-80e1a80f2349",
   "metadata": {},
   "outputs": [],
   "source": [
    "import os, sys\n",
    "\n",
    "def add_parent_lib_path(name=\"Semanas_07_08_09\"):\n",
    "    sys.path.append(os.path.join(sys.path[0].split(name)[0],name))\n",
    "    \n",
    "add_parent_lib_path()"
   ]
  },
  {
   "cell_type": "code",
   "execution_count": 2,
   "id": "89acd650-fd08-4367-9136-953b8a965ab3",
   "metadata": {},
   "outputs": [],
   "source": [
    "Path_Leptoquarks_searches = os.path.dirname(os.path.dirname(os.path.realpath('XBG_Discriminator_Histograms.ipynb')))"
   ]
  },
  {
   "cell_type": "code",
   "execution_count": 3,
   "id": "203aa837-feb7-4963-93e9-7ecc2f31d928",
   "metadata": {},
   "outputs": [
    {
     "name": "stdout",
     "output_type": "stream",
     "text": [
      "Welcome to JupyROOT 6.22/06\n"
     ]
    }
   ],
   "source": [
    "from Uniandes_Framework.ml_tools import tools\n",
    "from Uniandes_Framework.delphes_reader import root_analysis\n",
    "\n",
    "import pandas as pd\n",
    "\n",
    "from ROOT import TCanvas #Permite poner los histogramas\n",
    "from ROOT import THStack #Permite graficar varios histogramas al mismo tiempo\n",
    "from ROOT import TLegend #Permite poner legends cuando se sobrelapan histogramas\n",
    "from ROOT import TLatex #Permite poner avisos en Latex en las graficas"
   ]
  },
  {
   "cell_type": "code",
   "execution_count": 4,
   "id": "7aa195a7-4406-49b0-9a30-b3cedd1b54e9",
   "metadata": {},
   "outputs": [],
   "source": [
    "channels = [\"hadronic_dLQ\", \"hadronic_sLQ\", \"hadronic_non-resonant\", \"semileptonic_dLQ\", \"semileptonic_sLQ\", \"semileptonic_non-resonant\"]\n",
    "signals = ['LQ_LQ', 'Tau_LQ', 'Tau_Tau']\n",
    "Masses = ['1250', '1500', '1750', '2000', '2250', '2500']\n",
    "bkgs = ['ttbar', 'z_jets', 'w_jets', 'stop','ww', 'wz', 'zz']"
   ]
  },
  {
   "cell_type": "code",
   "execution_count": 5,
   "id": "f8821e8b-b016-4eaa-a46c-e37fcc94d4cc",
   "metadata": {},
   "outputs": [],
   "source": [
    "try: os.mkdir('Histograms')\n",
    "except: pass\n",
    "\n",
    "for channel in channels:\n",
    "    try: os.mkdir(f'Histograms/{channel}')\n",
    "    except: pass    \n",
    "\n",
    "    bkg_dict = {}\n",
    "    for bkg in bkgs: bkg_dict[bkg] = os.path.join(os.sep,\"disco4\",\"pheno_csv_files\",\"Leptoquarks_Searches\",bkg,f\"{bkg}_{channel}.csv\")\n",
    "    \n",
    "    most_important_features = []\n",
    "    with open(os.path.join(os.getcwd(), 'XGB_models', channel, f'Most_Important_Features.txt'), \"r\") as f:\n",
    "        for line in f: most_important_features.append(line.strip())\n",
    "    f.close()\n",
    "    \n",
    "    for Mass in Masses:\n",
    "        try: os.mkdir(f'Histograms/{channel}/M{Mass}')\n",
    "        except: pass\n",
    "\n",
    "        signal_dict = {}\n",
    "        for signal in signals: signal_dict[f\"{signal}_{Mass}\"] = os.path.join(os.sep,\"disco4\",\"pheno_csv_files\",\"Leptoquarks_Searches\",f\"{signal}_{Mass}\",f\"{signal}_{Mass}_{channel}.csv\")\n",
    "\n",
    "        path_model_mass =  os.path.join(os.getcwd(), 'XGB_models', channel, f'M{Mass}_XGB.joblib')\n",
    "        bkg_and_signal_dict = bkg_dict | signal_dict\n",
    "        path_folder_mass = os.path.join(os.getcwd(), 'Histograms', channel,f'M{Mass}')\n",
    "        \n",
    "        with root_analysis.Quiet(): tools.hist_discriminator(path_model= path_model_mass, csv_dict = bkg_and_signal_dict, path_to_save= path_folder_mass, best_features= most_important_features)"
   ]
  },
  {
   "cell_type": "code",
   "execution_count": 7,
   "id": "1fc0ee5e-9bb6-4df1-a815-77f1e0d76b58",
   "metadata": {},
   "outputs": [],
   "source": [
    "def Read_Cutflows_N_Events(channel, signal, Luminosity = 137*1000):\n",
    "\n",
    "    cutflows_path = os.path.join(Path_Leptoquarks_searches, '03_delphes_preselection/Cutflows', f'{channel}.csv')\n",
    "    cutflows_file = pd.read_csv(cutflows_path, index_col= 0)\n",
    "    cutflows_file = cutflows_file.dropna()\n",
    "    \n",
    "    Efficience = cutflows_file[signal]['DeltaR > 0.3']/cutflows_file[signal]['All']\n",
    "    XS = cutflows_file[signal]['XS']\n",
    "    return Efficience*XS*Luminosity"
   ]
  },
  {
   "cell_type": "code",
   "execution_count": 38,
   "id": "cf46e0ea-55cb-43fb-ba6c-8f42a14dd17c",
   "metadata": {},
   "outputs": [],
   "source": [
    "histograms = {}"
   ]
  },
  {
   "cell_type": "code",
   "execution_count": 39,
   "id": "8ee38741-2e32-4289-8130-221c0df2078e",
   "metadata": {},
   "outputs": [],
   "source": [
    "for channel in channels:    \n",
    "    histograms[channel] = {}\n",
    "    for Mass in Masses:\n",
    "                \n",
    "        path_root_file = os.path.join(os.getcwd(), 'Histograms', channel,f'M{Mass}', f'Histograms_M{Mass}_XGB.root')       \n",
    "        histograms[channel][f'M{Mass}'] = root_analysis.Read_ROOT_File(path_root_file, expected_keys = [f\"{signal}_{Mass}\" for signal in signals] + bkgs)\n",
    "        \n",
    "        for signal_key in histograms[channel][f'M{Mass}'].keys():\n",
    "            histo = histograms[channel][f'M{Mass}'][signal_key]\n",
    "            N_events = Read_Cutflows_N_Events(channel, signal_key)\n",
    "            histo.Scale(N_events/histo.Integral())\n",
    "            \n",
    "        N_events = Read_Cutflows_N_Events(channel, 'w_jets')\n",
    "        h_w_jets = histograms[channel][f'M{Mass}']['z_jets'].Clone('')\n",
    "        h_w_jets.SetDirectory(0)\n",
    "        h_w_jets.Scale(N_events/h_w_jets.Integral())\n",
    "        h_w_jets.SetNameTitle('w_jets', 'w_jets')\n",
    "        \n",
    "        histograms[channel][f'M{Mass}']['w_jets'] = h_w_jets"
   ]
  },
  {
   "cell_type": "code",
   "execution_count": 40,
   "id": "2792d608-b364-4d7d-b499-7681bae11936",
   "metadata": {},
   "outputs": [
    {
     "name": "stderr",
     "output_type": "stream",
     "text": [
      "Warning in <TCanvas::Constructor>: Deleting canvas with same name: Canvas\n"
     ]
    }
   ],
   "source": [
    "canvas = TCanvas(\"Canvas\", \" \", 600, 400)"
   ]
  },
  {
   "cell_type": "code",
   "execution_count": 41,
   "id": "e3590def-c7e0-4c6c-a999-da0d2e66833d",
   "metadata": {},
   "outputs": [
    {
     "data": {
      "image/png": "[encoded data removed]",
      "text/plain": [
       "<IPython.core.display.Image object>"
      ]
     },
     "metadata": {},
     "output_type": "display_data"
    }
   ],
   "source": [
    "histograms['hadronic_dLQ']['M1250']['z_jets'].Draw('hist')\n",
    "canvas.Draw()"
   ]
  },
  {
   "cell_type": "code",
   "execution_count": 42,
   "id": "7250ebab-f0e3-474a-83c9-1e6a39511755",
   "metadata": {},
   "outputs": [
    {
     "data": {
      "image/png": "[encoded data removed]",
      "text/plain": [
       "<IPython.core.display.Image object>"
      ]
     },
     "metadata": {},
     "output_type": "display_data"
    }
   ],
   "source": [
    "histograms['hadronic_dLQ']['M1250']['w_jets'].Draw('hist')\n",
    "canvas.Draw()"
   ]
  },
  {
   "cell_type": "code",
   "execution_count": 43,
   "id": "543ab437-1764-4f61-9d4e-0d2022951b8c",
   "metadata": {},
   "outputs": [
    {
     "data": {
      "text/plain": [
       "dict_keys(['LQ_LQ_1250', 'Tau_LQ_1250', 'Tau_Tau_1250', 'ttbar', 'z_jets', 'stop', 'ww', 'wz', 'zz', 'w_jets'])"
      ]
     },
     "execution_count": 43,
     "metadata": {},
     "output_type": "execute_result"
    }
   ],
   "source": [
    "histograms['hadronic_dLQ']['M1250'].keys()"
   ]
  },
  {
   "cell_type": "code",
   "execution_count": null,
   "id": "fa4869eb-b4ae-44bc-b4fd-422b94ac8ccf",
   "metadata": {},
   "outputs": [],
   "source": [
    "# #2022:\n",
    "\n",
    "# def Overlap_Histos(histogramas_signal, histogramas_bkg, process, channel,\n",
    "#                    signals, bkgs, Titulo, M, ignorar = '', alpha_bkg = 0.05, alpha_signal = 0.05, \n",
    "#                    Stack = False, Log_Y = False, Log_X = True,Grid = False):\n",
    "    \n",
    "#     #Si Stack es False -> Se normaliza por unidad de area\n",
    "#     #Si Stack es True -> Se normaliza según el número de eventos\n",
    "    \n",
    "#     canvas = TCanvas(Titulo, \" \", 800, 600)\n",
    "    \n",
    "#     #legend = TLegend(0.9,.4,1,.89) #Afuera de la grafica\n",
    "#     legend = TLegend(0.48,.75,0.87,.89)\n",
    "#     legend.SetNColumns(4) \n",
    "#     legend.SetHeader('M_{U}' + f'= {int(M)/1000} TeV' + ', g_{U} = 1.8' + ', #beta_{R}^{b #tau} = -1',\"C\")\n",
    "#     legend.SetLineWidth(1)\n",
    "    \n",
    "#     #legend.SetFillStyle(0) #Así la ventana con los legends es transparente\n",
    "\n",
    "#     Histos = THStack('hist', Titulo)\n",
    "        \n",
    "#     for i in range(len(bkgs.keys())):\n",
    "#             combinacion_bkg = list(bkgs.keys())[i]\n",
    "#             bkg_list = bkgs[combinacion_bkg]\n",
    "            \n",
    "#             histo_list = []\n",
    "#             for bkg in bkg_list:\n",
    "#                 if (bkg != ignorar):\n",
    "#                     if (histogramas_bkg[M][process][channel][bkg] != {}):\n",
    "#                         h = histogramas_bkg[M][process][channel][bkg]\n",
    "#                         h.Scale(N_events(process, channel, bkg)/h.Integral())\n",
    "#                         histo_list.append(h)\n",
    "                \n",
    "#             histo_Nevents = sum_histos(histo_list)\n",
    "            \n",
    "#             histo_normalizado = sum_histos(histo_list)\n",
    "#             histo_normalizado.Scale(1.0/histo_normalizado.Integral())\n",
    "            \n",
    "#             if (Stack): histo = histo_Nevents\n",
    "#             else: histo = histo_normalizado\n",
    "            \n",
    "#             color = len(signals.keys()) + i + 1\n",
    "#             if color == 7: color = 3\n",
    "                \n",
    "#             histo.SetLineColor(color)\n",
    "#             histo.SetFillColorAlpha(color, alpha_bkg)\n",
    "#             histo.SetLineWidth(2)\n",
    "#             histo.SetDirectory(0)     \n",
    "            \n",
    "#             Histos.Add(histo)\n",
    "#             legend.AddEntry(histo,combinacion_bkg)\n",
    "            \n",
    "#     for j in range(len(signals.keys())):\n",
    "#             combinacion_signal = list(signals.keys())[j]\n",
    "#             signal_list = signals[combinacion_signal]\n",
    "            \n",
    "#             histo_list = []\n",
    "#             for signal in signal_list:\n",
    "#                 if (signal != ignorar):\n",
    "#                     if (histogramas_signal[M][process][channel][signal] != {}):\n",
    "#                         h = histogramas_signal[M][process][channel][signal]\n",
    "#                         h.Scale(N_events(process, channel, f'{signal}_{M}')/h.Integral())\n",
    "#                         histo_list.append(h)\n",
    "                \n",
    "#             histo_Nevents = sum_histos(histo_list)\n",
    "            \n",
    "#             histo_normalizado = sum_histos(histo_list)\n",
    "#             histo_normalizado.Scale(1.0/histo_normalizado.Integral())\n",
    "            \n",
    "#             if (Stack): histo = histo_Nevents\n",
    "#             else: histo = histo_normalizado\n",
    "            \n",
    "#             color = j + 1\n",
    "#             if color == 3: color = 7\n",
    "            \n",
    "#             histo.SetLineColor(color)\n",
    "#             histo.SetFillColorAlpha(color, alpha_signal)\n",
    "#             histo.SetLineStyle(2)\n",
    "#             histo.SetLineWidth(2)\n",
    "#             histo.SetDirectory(0)     \n",
    "            \n",
    "#             Histos.Add(histo)\n",
    "#             legend.AddEntry(histo,combinacion_signal)\n",
    "            \n",
    "#     if Log_Y: canvas.SetLogy()\n",
    "#     if Log_X: canvas.SetLogx()\n",
    "#     if Grid: canvas.SetGrid()\n",
    "    \n",
    "#     eje_x = 'XGB-Output'\n",
    "    \n",
    "#     if Stack:\n",
    "#         Histos.Draw(\"hist\")\n",
    "#         Histos.SetTitle(f'{Titulo}; {eje_x}; Events')  \n",
    "        \n",
    "#     else: \n",
    "#         Histos.Draw(\"histnostack\")\n",
    "#         Histos.SetTitle(f'{Titulo}; {eje_x}; A.U')  \n",
    "    \n",
    "#     latex = TLatex()\n",
    "#     latex.SetNDC()\n",
    "#     latex.SetTextSize(0.04)\n",
    "#     latex.DrawLatex(0.76,0.91,'#sqrt{s} = 13 TeV')\n",
    "#     #latex.DrawLatex(0.61,0.91,'#sqrt{s} = 13 TeV, L = 137 fb^{-1}')\n",
    "\n",
    "    \n",
    "#     canvas.Draw()\n",
    "#     legend.Draw('same')\n",
    "    \n",
    "#     #Histos.GetXaxis().SetLimits(0.0, float(M)*3)  \n",
    "    \n",
    "#     return Histos, canvas, legend"
   ]
  }
 ],
 "metadata": {
  "kernelspec": {
   "display_name": "Python 3 (ipykernel)",
   "language": "python",
   "name": "python3"
  },
  "language_info": {
   "codemirror_mode": {
    "name": "ipython",
    "version": 3
   },
   "file_extension": ".py",
   "mimetype": "text/x-python",
   "name": "python",
   "nbconvert_exporter": "python",
   "pygments_lexer": "ipython3",
   "version": "3.9.4"
  }
 },
 "nbformat": 4,
 "nbformat_minor": 5
}
