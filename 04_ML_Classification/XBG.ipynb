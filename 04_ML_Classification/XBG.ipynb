{
 "cells": [
  {
   "cell_type": "code",
   "execution_count": 1,
   "id": "bb19389d-aacb-49db-920e-a856f2a81ae7",
   "metadata": {},
   "outputs": [],
   "source": [
    "def add_parent_lib_path(name=\"Github\"):\n",
    "    import os\n",
    "    import sys\n",
    "    sys.path.append(\n",
    "        os.path.join(\n",
    "            sys.path[0].split(name)[0],name\n",
    "        )\n",
    "    )\n",
    "add_parent_lib_path()"
   ]
  },
  {
   "cell_type": "code",
   "execution_count": 2,
   "id": "1c3940aa-42b7-410c-aeed-22823bfe68cf",
   "metadata": {},
   "outputs": [
    {
     "name": "stdout",
     "output_type": "stream",
     "text": [
      "Welcome to JupyROOT 6.22/06\n"
     ]
    }
   ],
   "source": [
    "import os\n",
    "import time\n",
    "import Uniandes_Framework\n",
    "from ROOT import *"
   ]
  },
  {
   "cell_type": "code",
   "execution_count": 3,
   "id": "538e89f4-7183-4198-b0a6-1cb2786639e6",
   "metadata": {},
   "outputs": [
    {
     "name": "stdout",
     "output_type": "stream",
     "text": [
      "total 116\n",
      "drwxr-xr-x. 2 root root 4096 Feb 24 22:50 LQ_LQ_1250\n",
      "drwxr-xr-x. 2 root root 4096 Feb 24 22:16 LQ_LQ_1500\n",
      "drwxr-xr-x. 2 root root 4096 Feb 24 22:14 LQ_LQ_1750\n",
      "drwxr-xr-x. 2 root root 4096 Feb 24 22:08 LQ_LQ_2000\n",
      "drwxr-xr-x. 2 root root 4096 Feb 24 22:08 LQ_LQ_2250\n",
      "drwxr-xr-x. 2 root root 4096 Feb 24 22:48 LQ_LQ_2500\n",
      "drwxr-xr-x. 2 root root 4096 Feb 24 23:42 Tau_LQ_1250\n",
      "drwxr-xr-x. 2 root root 4096 Feb 24 23:42 Tau_LQ_1500\n",
      "drwxr-xr-x. 2 root root 4096 Feb 24 23:49 Tau_LQ_1750\n",
      "drwxr-xr-x. 2 root root 4096 Feb 24 23:50 Tau_LQ_2000\n",
      "drwxr-xr-x. 2 root root 4096 Feb 25 00:03 Tau_LQ_2250\n",
      "drwxr-xr-x. 2 root root 4096 Feb 25 00:04 Tau_LQ_2500\n",
      "drwxr-xr-x. 2 root root 4096 Mar  6 04:09 Tau_Tau_1250\n",
      "drwxr-xr-x. 2 root root 4096 Mar  6 04:12 Tau_Tau_1500\n",
      "drwxr-xr-x. 2 root root 4096 Mar  6 04:11 Tau_Tau_1750\n",
      "drwxr-xr-x. 2 root root 4096 Mar  6 04:13 Tau_Tau_2000\n",
      "drwxr-xr-x. 2 root root 4096 Mar  6 04:13 Tau_Tau_2250\n",
      "drwxr-xr-x. 2 root root 4096 Mar  6 04:11 Tau_Tau_2500\n",
      "drwxr-xr-x. 2 root root 4096 Mar  2 23:44 Z_jets_LQ_DATA\n",
      "drwxr-xr-x. 2 root root 4096 Mar  2 23:44 cutflows\n",
      "drwxr-xr-x. 2 root root 4096 Feb 26 10:25 cutflows_0\n",
      "drwxr-xr-x. 2 root root 4096 Mar  6 11:14 cutflows_stop_nresonant\n",
      "drwxr-xr-x. 2 root root 4096 Mar  6 11:14 stop\n",
      "drwxr-xr-x. 2 root root 4096 Feb 26 10:25 ttbar\n",
      "drwxr-xr-x. 2 root root 4096 Feb 25 10:52 w_jets\n",
      "drwxr-xr-x. 2 root root 4096 Feb 25 23:29 ww\n",
      "drwxr-xr-x. 2 root root 4096 Feb 25 19:20 wz\n",
      "drwxr-xr-x. 2 root root 4096 Feb 25 09:36 z_jets\n",
      "drwxr-xr-x. 2 root root 4096 Feb 25 19:36 zz\n"
     ]
    }
   ],
   "source": [
    "!ls -l /disco4/pheno_csv_files/Leptoquarks_Searches/"
   ]
  },
  {
   "cell_type": "code",
   "execution_count": 4,
   "id": "8e473f73-8d46-4066-8d75-e5fa0ab229e6",
   "metadata": {},
   "outputs": [
    {
     "name": "stdout",
     "output_type": "stream",
     "text": [
      "total 108656\n",
      "-rw-r--r--. 1 root root 25141244 Feb 24 22:47 LQ_LQ_1250_hadronic_dLQ.csv\n",
      "-rw-r--r--. 1 root root  3393421 Feb 24 22:46 LQ_LQ_1250_hadronic_non-resonant.csv\n",
      "-rw-r--r--. 1 root root 18608754 Feb 24 22:47 LQ_LQ_1250_hadronic_sLQ.csv\n",
      "-rw-r--r--. 1 root root 35239367 Feb 24 22:50 LQ_LQ_1250_semileptonic_dLQ.csv\n",
      "-rw-r--r--. 1 root root  4214694 Feb 24 22:48 LQ_LQ_1250_semileptonic_non-resonant.csv\n",
      "-rw-r--r--. 1 root root 24656646 Feb 24 22:48 LQ_LQ_1250_semileptonic_sLQ.csv\n"
     ]
    }
   ],
   "source": [
    "!ls -l /disco4/pheno_csv_files/Leptoquarks_Searches/LQ_LQ_1250"
   ]
  },
  {
   "cell_type": "code",
   "execution_count": 5,
   "id": "e8c1bd8e-afa3-4f7e-99c4-6dcb0840ecf5",
   "metadata": {},
   "outputs": [
    {
     "name": "stdout",
     "output_type": "stream",
     "text": [
      "total 139704\n",
      "-rw-r--r--. 1 root root  4415815 Feb 26 10:15 ttbar_hadronic_dLQ.csv\n",
      "-rw-r--r--. 1 root root  3507939 Feb 26 10:15 ttbar_hadronic_non-resonant.csv\n",
      "-rw-r--r--. 1 root root  8129350 Feb 26 10:15 ttbar_hadronic_sLQ.csv\n",
      "-rw-r--r--. 1 root root 37890542 Feb 26 10:25 ttbar_semileptonic_dLQ.csv\n",
      "-rw-r--r--. 1 root root 24631012 Feb 26 10:16 ttbar_semileptonic_non-resonant.csv\n",
      "-rw-r--r--. 1 root root 64468868 Feb 26 10:24 ttbar_semileptonic_sLQ.csv\n"
     ]
    }
   ],
   "source": [
    "!ls -l /disco4/pheno_csv_files/Leptoquarks_Searches/ttbar"
   ]
  },
  {
   "cell_type": "code",
   "execution_count": 6,
   "id": "7fc89819-27fb-4c51-bc78-055ab336a7e2",
   "metadata": {},
   "outputs": [
    {
     "name": "stdout",
     "output_type": "stream",
     "text": [
      "total 22804\n",
      "-rw-r--r--. 1 root root   432123 Mar  6 11:13 stop_hadronic_dLQ.csv\n",
      "-rw-r--r--. 1 root root  1189832 Mar  6 11:13 stop_hadronic_non-resonant.csv\n",
      "-rw-r--r--. 1 root root  1417450 Mar  6 11:13 stop_hadronic_sLQ.csv\n",
      "-rw-r--r--. 1 root root  2454487 Mar  6 11:14 stop_semileptonic_dLQ.csv\n",
      "-rw-r--r--. 1 root root  7804086 Mar  6 11:13 stop_semileptonic_non-resonant.csv\n",
      "-rw-r--r--. 1 root root 10039146 Mar  6 11:14 stop_semileptonic_sLQ.csv\n"
     ]
    }
   ],
   "source": [
    "!ls -l /disco4/pheno_csv_files/Leptoquarks_Searches/stop"
   ]
  },
  {
   "cell_type": "code",
   "execution_count": null,
   "id": "6f86f510-57e4-42bf-b800-e701d172607d",
   "metadata": {},
   "outputs": [],
   "source": []
  }
 ],
 "metadata": {
  "kernelspec": {
   "display_name": "Python 3 (ipykernel)",
   "language": "python",
   "name": "python3"
  },
  "language_info": {
   "codemirror_mode": {
    "name": "ipython",
    "version": 3
   },
   "file_extension": ".py",
   "mimetype": "text/x-python",
   "name": "python",
   "nbconvert_exporter": "python",
   "pygments_lexer": "ipython3",
   "version": "3.9.4"
  }
 },
 "nbformat": 4,
 "nbformat_minor": 5
}
