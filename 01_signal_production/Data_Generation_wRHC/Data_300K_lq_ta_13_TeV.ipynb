{
 "cells": [
  {
   "cell_type": "markdown",
   "id": "fcc2cf36-b914-4006-bd92-f740adffd681",
   "metadata": {},
   "source": [
    "$$\\textrm{Joaquin Peñuela Parra}$$\n",
    "$$\\textrm{University of Los Andes}$$\n",
    "$$\\textrm{High Energy Physics Group: Phenomenology of Particles}$$\n",
    "\n",
    "This code was written to be running in Docker. If you do not have a Docker inside hep-server2 please refer to: https://github.com/Phenomenology-group-uniandes/Tutoriales_Generales\n",
    "\n",
    "$\\textbf{Preliminaries}$ \n",
    "\n",
    "The libraries used here are:"
   ]
  },
  {
   "cell_type": "code",
   "execution_count": null,
   "id": "ce0fd802-3ffb-4340-8a92-00889665150b",
   "metadata": {},
   "outputs": [],
   "source": [
    "import numpy as np\n",
    "import shutil\n",
    "import pandas as pd\n",
    "import glob\n",
    "import os\n",
    "\n",
    "personal_folder=\"/disco4/personal_folders/Joaquin\""
   ]
  },
  {
   "cell_type": "code",
   "execution_count": null,
   "id": "939c46e4-9e45-42b5-8e13-a3c9a963f558",
   "metadata": {},
   "outputs": [],
   "source": [
    "M = [\"500\", \"1500\", \"2500\"]\n",
    "g_U = [\"0.25\", \"0.5\", \"1.0\", \"2.0\", \"3.0\"]"
   ]
  },
  {
   "cell_type": "code",
   "execution_count": null,
   "id": "e6f02929-664b-4f4a-a94e-2728e8a865a0",
   "metadata": {},
   "outputs": [],
   "source": [
    "ruta_modelo = \"/disco1/SIMULACIONES/LeptoQuarks/UFOs/Mod2_VLQ_UFO\"\n",
    "ruta_pythia = \"/disco1/SIMULACIONES/LeptoQuarks/pythia8_card.dat\"\n",
    "ruta_delphes = \"/disco1/SIMULACIONES/LeptoQuarks/delphes_card_CMS-0.7bTag.dat\""
   ]
  },
  {
   "cell_type": "markdown",
   "id": "c8669ce3-f6c5-40c5-88e2-6951cc2e3c07",
   "metadata": {},
   "source": [
    "### p p > lq ta @0"
   ]
  },
  {
   "cell_type": "code",
   "execution_count": null,
   "id": "f7007e77-573c-464b-aefa-48b60098f762",
   "metadata": {},
   "outputs": [],
   "source": [
    "linea_modelo = \"import model \" + ruta_modelo\n",
    "linea_def1 = \"define lq = vlq vlq~\"\n",
    "linea_def2 = \"define ta = ta+ ta-\"\n",
    "linea_gen = \"generate p p > lq ta @0\"\n",
    "lineas_definiciones = [linea_modelo, linea_def1, linea_def2, linea_gen]\n",
    "\n",
    "lineas_outputs = []\n",
    "for i in range(len(M)):\n",
    "    for j in range(len(g_U)):\n",
    "        name=\"M\" + M[i].replace('.','_') + \"_gU\" + g_U[j].replace('.','_')\n",
    "        path=os.path.join(personal_folder,\"Data_300K_13_TeV\",\"lq_ta\",name)\n",
    "        output_ij = f\"output {path} --no-jpeg\"\n",
    "        lineas_outputs.append(output_ij)\n",
    "lineas = np.concatenate((lineas_definiciones, lineas_outputs))\n",
    "\n",
    "script = open ('folders_data_lq_ta_M_gU.txt','w')\n",
    "script.write(lineas[0])\n",
    "\n",
    "for i in range(1,len(lineas)):\n",
    "    script.write('\\n' + lineas[i])\n",
    "script.close()"
   ]
  },
  {
   "cell_type": "code",
   "execution_count": null,
   "id": "043863e3-34ea-47c4-abdd-d31d4bd9ee79",
   "metadata": {
    "tags": []
   },
   "outputs": [],
   "source": [
    "!./../../../Collider/MG5_aMC_v3_1_0/bin/mg5_aMC folders_data_lq_ta_M_gU.txt"
   ]
  },
  {
   "cell_type": "code",
   "execution_count": null,
   "id": "380bafbf-1ffd-47d2-8c68-10cb794ad9be",
   "metadata": {},
   "outputs": [],
   "source": [
    "!rm folders_data_lq_ta_M_gU.txt"
   ]
  },
  {
   "cell_type": "code",
   "execution_count": null,
   "id": "f0e7c737-8822-4f09-8885-d4fbacf2b204",
   "metadata": {},
   "outputs": [],
   "source": [
    "!mkdir \"/disco4/personal_folders/Joaquin/Data_300K_13_TeV/lq_ta/Cross_Sections/\""
   ]
  },
  {
   "cell_type": "code",
   "execution_count": null,
   "id": "2796e514-304e-43e5-9012-ab20b5938b78",
   "metadata": {
    "tags": []
   },
   "outputs": [],
   "source": [
    "seeds = []\n",
    "\n",
    "def semilla():\n",
    "    seed = np.random.randint(1,5000)\n",
    "    if (seed in seeds):\n",
    "        return semilla()\n",
    "    return seed\n",
    "\n",
    "for k in range(0,6):            \n",
    "    for i in range(len(M)):\n",
    "        for j in range(len(g_U)):\n",
    "            \n",
    "            etiqueta = \"M\" + M[i].replace('.','_') + \"_gU\" + g_U[j].replace('.','_')\n",
    "            nombre_script = 'generate_data_lq_ta_' + etiqueta + '.txt'\n",
    "            script = open (nombre_script,'w')\n",
    "\n",
    "            launch = \"launch /disco4/personal_folders/Joaquin/Data_300K_13_TeV/lq_ta/\" + etiqueta + \" -m\"\n",
    "            nodos = \"10\"\n",
    "            shower = \"shower = Pythia8\"\n",
    "            detector = \"detector = Delphes\"\n",
    "            done = \"done\"\n",
    "\n",
    "            seed = semilla()\n",
    "            seeds.append(seed)\n",
    "            param1 = \"set iseed \" + str(seed)\n",
    "            param2 = \"set nevents 50000\"\n",
    "            param3 = \"set cut_decays True\"\n",
    "            param4 = \"set ptb 30\"\n",
    "            param5 = \"set ptj 20\"\n",
    "            param6 = \"set ptl 20\"\n",
    "            param7 = \"set etab 2.5\"\n",
    "\n",
    "            ruta_paramcard = \"/disco4/personal_folders/Joaquin/Paramcards_13/\" + \"param_card_\" + etiqueta + \".dat\"\n",
    "\n",
    "            lineas = [launch,nodos,shower,detector,done,param1, param2, param3, param4, param5, param6, param7,ruta_paramcard, ruta_pythia, ruta_delphes]\n",
    "\n",
    "            script.write(lineas[0])\n",
    "\n",
    "            for k in range(1,len(lineas)):    \n",
    "                script.write('\\n' + lineas[k])\n",
    "\n",
    "            script.close()\n",
    "\n",
    "            !./../../../Collider/MG5_aMC_v3_1_0/bin/mg5_aMC {nombre_script}\n",
    "            !rm {nombre_script}\n",
    "            \n",
    "            source_folder = \"/disco4/personal_folders/Joaquin/Data_300K_13_TeV/lq_ta/\" + etiqueta + \"/Events\"\n",
    "            target_folder = \"/disco4/personal_folders/Joaquin/Data_300K_13_TeV/lq_ta/Events/\" + etiqueta\n",
    "            source_file_xs = \"/disco4/personal_folders/Joaquin/Data_300K_13_TeV/lq_ta/\" + etiqueta + \"/crossx.html\"\n",
    "            target_file_xs = \"/disco4/personal_folders/Joaquin/Data_300K_13_TeV/lq_ta/Cross_Sections/crossx_\" + etiqueta + \".html\"\n",
    "            \n",
    "            !rm -rf target_file_xs\n",
    "            shutil.copy(source_file_xs, target_file_xs)\n",
    "            !mkdir -p target_folder\n",
    "            !rsync --modify-window=1 --update --recursive --copy-links {source_folder} {target_folder}                     "
   ]
  },
  {
   "cell_type": "code",
   "execution_count": null,
   "id": "b553950f-def3-4cb7-940c-66488856b28a",
   "metadata": {},
   "outputs": [],
   "source": [
    "print(seeds)"
   ]
  },
  {
   "cell_type": "code",
   "execution_count": null,
   "id": "bccbc3a9-c219-402b-91e3-28ccede4ce37",
   "metadata": {},
   "outputs": [],
   "source": [
    "for i in range(len(M)):\n",
    "    for j in range(len(g_U)):\n",
    "        etiqueta = \"M\" + M[i].replace('.','_') + \"_gU\" + g_U[j].replace('.','_')\n",
    "        folder = \"/disco4/personal_folders/Joaquin/Data_300K_13_TeV/lq_ta/\" + etiqueta\n",
    "        \n",
    "        subprocesses_folder = folder + \"/SubProcesses/\"\n",
    "        files = glob.iglob(os.path.join(subprocesses_folder, \"**/*.ps\"))\n",
    "\n",
    "        for file_path in files:\n",
    "            if os.path.isfile(file_path):\n",
    "                ruta = os.path.dirname(os.path.abspath(file_path))\n",
    "                for k in range(len(ruta)):\n",
    "                    if (ruta[len(ruta) -1 - k] == \"/\"):\n",
    "                        indice = len(ruta) -1 - k\n",
    "                        subcarpeta = ruta[indice:]\n",
    "                        break\n",
    "\n",
    "                target_folder = f\"/disco4/personal_folders/Joaquin/Data_300K_13_TeV/lq_ta/SubProcesses/{etiqueta}{subcarpeta}\"\n",
    "                !mkdir -p {target_folder}\n",
    "                shutil.copy(file_path, target_folder)\n",
    "\n",
    "                source_file_config_map = ruta +  \"/config_subproc_map.inc\"\n",
    "                target_file_config_map = target_folder +  \"/config_subproc_map.inc\"\n",
    "                shutil.copy(source_file_config_map, target_file_config_map)\n",
    "        \n",
    "        HTML_folder = folder + \"/HTML/\"\n",
    "        files = glob.iglob(os.path.join(HTML_folder, \"**/results.html\"))\n",
    "\n",
    "        for file_path in files:\n",
    "            if os.path.isfile(file_path):\n",
    "                ruta = os.path.dirname(os.path.abspath(file_path))\n",
    "                for k in range(len(ruta)):\n",
    "                    if (ruta[len(ruta) -1 - k] == \"/\"):\n",
    "                        indice = len(ruta) -1 - k\n",
    "                        subcarpeta = ruta[indice:]\n",
    "                        break\n",
    "\n",
    "                target_folder = f\"/disco4/personal_folders/Joaquin/Data_300K_13_TeV/lq_ta/HTML/{etiqueta}{subcarpeta}\"\n",
    "                !mkdir -p {target_folder}\n",
    "                shutil.copy(file_path, target_folder)            \n",
    "        \n",
    "        #shutil.rmtree(folder) #Borra la carpeta con los outputs de MadGraph"
   ]
  },
  {
   "cell_type": "code",
   "execution_count": null,
   "id": "fe380163-a918-42ed-ba39-760988311d06",
   "metadata": {
    "tags": []
   },
   "outputs": [],
   "source": [
    "xs_lq_ta = np.zeros((len(g_U), len(M)))\n",
    "for j in range(len(M)):\n",
    "    for i in range(len(g_U)):\n",
    "        etiqueta = \"M\" + M[j].replace('.','_') + \"_gU\" + g_U[i].replace('.','_')\n",
    "        \n",
    "        ruta_tabla = \"/disco4/personal_folders/Joaquin/Data_300K_13_TeV/lq_ta/Cross_Sections/crossx_\" + etiqueta + \".html\"\n",
    "        tabla_ij = pd.read_html(ruta_tabla)\n",
    "        columna_xs = tabla_ij[0]['Cross section (pb)']\n",
    "        xs_lq_ta[i,j] = float(columna_xs[0].split(' ')[0])         \n",
    "        \n",
    "XS_Matriz_lq_ta = pd.DataFrame(xs_lq_ta)\n",
    "XS_Matriz_lq_ta.columns = M\n",
    "XS_Matriz_lq_ta.index = g_U\n",
    "\n",
    "XS_Matriz_lq_ta.to_excel(\"/disco4/personal_folders/Joaquin/Data_300K_13_TeV/lq_ta/Cross_Sections/XS_Matriz.xlsx\")"
   ]
  }
 ],
 "metadata": {
  "kernelspec": {
   "display_name": "Python 3 (ipykernel)",
   "language": "python",
   "name": "python3"
  },
  "language_info": {
   "codemirror_mode": {
    "name": "ipython",
    "version": 3
   },
   "file_extension": ".py",
   "mimetype": "text/x-python",
   "name": "python",
   "nbconvert_exporter": "python",
   "pygments_lexer": "ipython3",
   "version": "3.10.6"
  }
 },
 "nbformat": 4,
 "nbformat_minor": 5
}
