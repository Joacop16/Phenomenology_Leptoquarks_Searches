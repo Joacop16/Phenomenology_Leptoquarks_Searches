{
 "cells": [
  {
   "cell_type": "markdown",
   "id": "4a529141-6f91-42fb-8b2b-4086db92267d",
   "metadata": {},
   "source": [
    "$$\\textrm{Joaquin Peñuela Parra}$$\n",
    "$$\\textrm{University of Los Andes}$$\n",
    "$$\\textrm{High Energy Physics Group: Phenomenology of Particles}$$\n",
    "\n",
    "This code was written to be running in Docker. If you do not have a Docker inside hep-server2 please refer to: https://github.com/Phenomenology-group-uniandes/Tutoriales_Generales\n",
    "\n",
    "$\\textbf{Preliminaries}$ \n",
    "\n",
    "The libraries used here are:"
   ]
  },
  {
   "cell_type": "code",
   "execution_count": null,
   "id": "ce0fd802-3ffb-4340-8a92-00889665150b",
   "metadata": {},
   "outputs": [],
   "source": [
    "import numpy as np\n",
    "import shutil\n",
    "import pandas as pd\n",
    "import glob\n",
    "import os\n",
    "\n",
    "personal_folder=\"/disco4/personal_folders/Joaquin/2023/Semanas_07_08_09/\""
   ]
  },
  {
   "cell_type": "code",
   "execution_count": null,
   "id": "c24fbc1d-7167-428e-a9d3-56c4529e297b",
   "metadata": {},
   "outputs": [],
   "source": [
    "ruta_pythia = \"/disco1/SIMULACIONES/LeptoQuarks/pythia8_card.dat\"\n",
    "ruta_delphes = \"/disco1/SIMULACIONES/LeptoQuarks/delphes_card_CMS-0.7bTag.dat\""
   ]
  },
  {
   "cell_type": "code",
   "execution_count": null,
   "id": "f7007e77-573c-464b-aefa-48b60098f762",
   "metadata": {},
   "outputs": [],
   "source": [
    "linea_modelo = \"import model sm-no_b_mass\"\n",
    "linea_def1 = \"define l = e+ e- mu+ mu- ta+ ta-\"\n",
    "linea_def2 = \"define ta = ta+ ta-\"\n",
    "linea_gen = \"generate p p > z b j , z > ta l @2\"\n",
    "lineas_definiciones = [linea_modelo, linea_def1, linea_def2, linea_gen]\n",
    "\n",
    "lineas_outputs = []\n",
    "\n",
    "path=os.path.join(personal_folder,\"Data_5M\",\"Z_Jets_LQs\")\n",
    "output_ij = f\"output {path} -no-jpeg\"\n",
    "lineas_outputs.append(output_ij)\n",
    "\n",
    "lineas = np.concatenate((lineas_definiciones, lineas_outputs))\n",
    "\n",
    "script = open ('folders_data_Z_Jets_LQs.txt','w')\n",
    "script.write(lineas[0])\n",
    "\n",
    "for i in range(1,len(lineas)):\n",
    "    script.write('\\n' + lineas[i])\n",
    "script.close()"
   ]
  },
  {
   "cell_type": "code",
   "execution_count": null,
   "id": "043863e3-34ea-47c4-abdd-d31d4bd9ee79",
   "metadata": {
    "tags": []
   },
   "outputs": [],
   "source": [
    "!./../../../../../Collider/MG5_aMC_v3_1_0/bin/mg5_aMC folders_data_Z_Jets_LQs.txt"
   ]
  },
  {
   "cell_type": "code",
   "execution_count": null,
   "id": "0b6be99f-c7c9-477d-afea-e1d23f17b9fa",
   "metadata": {},
   "outputs": [],
   "source": [
    "!rm folders_data_Z_Jets_LQs.txt"
   ]
  },
  {
   "cell_type": "code",
   "execution_count": null,
   "id": "f0e7c737-8822-4f09-8885-d4fbacf2b204",
   "metadata": {},
   "outputs": [],
   "source": [
    "!mkdir -p {personal_folder}/Data_5M/\n",
    "!mkdir -p {personal_folder}/Data_5M/Z_Jets_LQs/\n",
    "# !mkdir -p {personal_folder}/Data_5M/Z_Jets_LQs/Cross_Sections/\n",
    "# !mkdir -p {personal_folder}/Data_5M/Z_Jets_LQs/SubProcesses/\n",
    "# !mkdir -p {personal_folder}/Data_5M/Z_Jets_LQs/HTML/"
   ]
  },
  {
   "cell_type": "code",
   "execution_count": null,
   "id": "2796e514-304e-43e5-9012-ab20b5938b78",
   "metadata": {
    "tags": []
   },
   "outputs": [],
   "source": [
    "seeds = []\n",
    "\n",
    "def semilla():\n",
    "    seed = np.random.randint(1,5000)\n",
    "    if (seed in seeds):\n",
    "        return semilla()\n",
    "    return seed\n",
    "\n",
    "for k in range(0,100):            \n",
    "            \n",
    "    nombre_script = f'generate_data_Z_Jets_LQs_run_{k}.txt'\n",
    "    script = open (nombre_script,'w')\n",
    "\n",
    "    launch = f\"launch {personal_folder}/Data_5M/Z_Jets_LQs/ -m\"\n",
    "    nodos = \"12\"\n",
    "    shower = \"shower = Pythia8\"\n",
    "    detector = \"detector = Delphes\"\n",
    "    done = \"done\"\n",
    "\n",
    "    seed = semilla()\n",
    "    seeds.append(seed)\n",
    "    param1 = \"set iseed \" + str(seed)\n",
    "    param2 = \"set nevents 50000\"\n",
    "    param3 = \"set cut_decays True\"\n",
    "    param4 = \"set ptb 30\"\n",
    "    param5 = \"set ptj 20\"\n",
    "    param6 = \"set ptl 30\"\n",
    "    param7 = \"set etab 2.5\"\n",
    "    param8 = \"set pt_min_pdg {15: 20}\"\n",
    "    param9 = \"set eta_max_pdg {15: 2.5}\"\n",
    "    param10 = \"set mmll 20\"\n",
    "\n",
    "    lineas = [launch,nodos,shower,detector,done,param1, param2, param3, param4, param5, param6, param7, param8, param9, param10,ruta_pythia, ruta_delphes]\n",
    "\n",
    "    script.write(lineas[0])\n",
    "\n",
    "    for k in range(1,len(lineas)):    \n",
    "        script.write('\\n' + lineas[k])\n",
    "\n",
    "    script.close()\n",
    "    \n",
    "    !./../../../../../Collider/MG5_aMC_v3_1_0/bin/mg5_aMC {nombre_script}\n",
    "    !rm {nombre_script}"
   ]
  },
  {
   "cell_type": "code",
   "execution_count": null,
   "id": "67b29f0c-f2a2-462b-9509-63df2533110e",
   "metadata": {},
   "outputs": [],
   "source": [
    "!touch Data_5M_Z_Jets_LQs_generada.txt"
   ]
  },
  {
   "cell_type": "code",
   "execution_count": null,
   "id": "bccbc3a9-c219-402b-91e3-28ccede4ce37",
   "metadata": {},
   "outputs": [],
   "source": [
    "# source_folder = f\"{personal_folder}/Data_5M/Z_Jets_LQs/Events\"\n",
    "# target_folder = f\"{personal_folder}/Data_5M/Z_Jets_LQs/Events/\"\n",
    "# source_file_xs = f\"{personal_folder}/Data_5M/Z_Jets_LQs/crossx.html\"\n",
    "# target_file_xs = f\"{personal_folder}/Data_5M/Z_Jets_LQs/Cross_Sections/crossx.html\"\n",
    "\n",
    "# !rm -rf {target_file_xs}\n",
    "# shutil.copy(source_file_xs, target_file_xs)\n",
    "# !mkdir -p {target_folder}\n",
    "# !rsync --modify-window=1 --update --recursive --copy-links {source_folder} {target_folder}      \n",
    "\n",
    "\n",
    "# folder = f\"{personal_folder}/Data_5M/Z_Jets_LQs/\" \n",
    "\n",
    "# subprocesses_folder = folder + \"/SubProcesses/\"\n",
    "# files = glob.iglob(os.path.join(subprocesses_folder, \"**/*.ps\"))\n",
    "\n",
    "# for file_path in files:\n",
    "#     if os.path.isfile(file_path):\n",
    "#         ruta = os.path.dirname(os.path.abspath(file_path))\n",
    "#         for k in range(len(ruta)):\n",
    "#             if (ruta[len(ruta) -1 - k] == \"/\"):\n",
    "#                 indice = len(ruta) -1 - k\n",
    "#                 subcarpeta = ruta[indice:]\n",
    "#                 break\n",
    "\n",
    "#         target_folder = f\"{personal_folder}/Data_5M/Z_Jets_LQs/SubProcesses{subcarpeta}\"\n",
    "#         !mkdir -p {target_folder}\n",
    "#         shutil.copy(file_path, target_folder)\n",
    "\n",
    "#         source_file_config_map = ruta +  \"/config_subproc_map.inc\"\n",
    "#         target_file_config_map = target_folder +  \"/config_subproc_map.inc\"\n",
    "#         shutil.copy(source_file_config_map, target_file_config_map)\n",
    "\n",
    "# HTML_folder = folder + \"/HTML/\"\n",
    "# files = glob.iglob(os.path.join(HTML_folder, \"**/results.html\"))\n",
    "\n",
    "# for file_path in files:\n",
    "#     if os.path.isfile(file_path):\n",
    "#         ruta = os.path.dirname(os.path.abspath(file_path))\n",
    "#         for k in range(len(ruta)):\n",
    "#             if (ruta[len(ruta) -1 - k] == \"/\"):\n",
    "#                 indice = len(ruta) -1 - k\n",
    "#                 subcarpeta = ruta[indice:]\n",
    "#                 break\n",
    "\n",
    "#         target_folder = f\"{personal_folder}/Data_5M/Z_Jets_LQs/HTML{subcarpeta}\"\n",
    "#         !mkdir -p {target_folder}\n",
    "#         shutil.copy(file_path, target_folder)            \n",
    "\n",
    "# #shutil.rmtree(folder) #Borra la carpeta con los outputs de MadGraph"
   ]
  },
  {
   "cell_type": "code",
   "execution_count": null,
   "id": "5b57c5f5-44c5-4456-be0b-e1831bf225ad",
   "metadata": {},
   "outputs": [],
   "source": [
    "# !touch Data_5M_Z_Jets_LQs_organizada.txt"
   ]
  }
 ],
 "metadata": {
  "kernelspec": {
   "display_name": "Python 3 (ipykernel)",
   "language": "python",
   "name": "python3"
  },
  "language_info": {
   "codemirror_mode": {
    "name": "ipython",
    "version": 3
   },
   "file_extension": ".py",
   "mimetype": "text/x-python",
   "name": "python",
   "nbconvert_exporter": "python",
   "pygments_lexer": "ipython3",
   "version": "3.9.4"
  }
 },
 "nbformat": 4,
 "nbformat_minor": 5
}
