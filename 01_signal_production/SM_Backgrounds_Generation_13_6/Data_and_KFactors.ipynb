{
 "cells": [
  {
   "cell_type": "markdown",
   "id": "fe8ac805-5909-40de-ba4e-13122c593f6c",
   "metadata": {},
   "source": [
    "$$\\textrm{Joaquin Peñuela Parra}$$\n",
    "$$\\textrm{University of Los Andes}$$\n",
    "$$\\textrm{High Energy Physics Group: Phenomenology of Particles}$$\n",
    "\n",
    "This code was written to be running in Docker. If you do not have a Docker inside hep-server2 please refer to: https://github.com/Phenomenology-group-uniandes/Tutoriales_Generales\n",
    "\n",
    "$\\textbf{Preliminaries}$ \n",
    "\n",
    "The libraries used here are:"
   ]
  },
  {
   "cell_type": "code",
   "execution_count": null,
   "id": "e128ae54-09a5-4d58-872a-be2661d8a06a",
   "metadata": {},
   "outputs": [],
   "source": [
    "import numpy as np\n",
    "import pandas as pd\n",
    "import glob\n",
    "import os"
   ]
  },
  {
   "cell_type": "code",
   "execution_count": null,
   "id": "0ede45b9-de30-4814-99a0-239503de3354",
   "metadata": {},
   "outputs": [],
   "source": [
    "background = [\"stop\", \"w_jets\", \"z_jets\", \"ww\", \"wz\", \"zz\", \"ttbar\"]\n",
    "personal_folder=\"/disco4/personal_folders/Joaquin\""
   ]
  },
  {
   "cell_type": "code",
   "execution_count": null,
   "id": "33e62fab-6005-4839-95dd-dbdeb02e7d54",
   "metadata": {},
   "outputs": [],
   "source": [
    "#testeo\n",
    "#background = [\"z_jets\", \"zz\"]"
   ]
  },
  {
   "cell_type": "code",
   "execution_count": null,
   "id": "7de1a43f-ff43-414a-9c80-d0c12816f326",
   "metadata": {
    "tags": []
   },
   "outputs": [],
   "source": [
    "for process in background:\n",
    "    nombre_script = f\"{personal_folder}/SM_Backgrounds/Scripts/{process}.txt\"\n",
    "    !./../../../Collider/MG5_aMC_v3_1_0/bin/mg5_aMC {nombre_script}"
   ]
  },
  {
   "cell_type": "code",
   "execution_count": null,
   "id": "154a25f0-d618-4297-b11b-dec6143f53f9",
   "metadata": {},
   "outputs": [],
   "source": [
    "xs = []\n",
    "for i in range(len(background)):\n",
    "    process = background[i]\n",
    "    xs_process = []\n",
    "\n",
    "    folder = f\"{personal_folder}/SM_Backgrounds/Data/{process}\"\n",
    "    \n",
    "    files = glob.iglob(os.path.join(folder, \"Events/**/tag_1_merged_xsecs.txt\"))    \n",
    "    for file_path in files:\n",
    "        if os.path.isfile(file_path):\n",
    "            table = np.loadtxt(file_path, skiprows=1)\n",
    "            for i in range(len(table)):\n",
    "                if(table[i,0] == 45):\n",
    "                    xs_process.append(table[i,1])\n",
    "                    \n",
    "    if (len(xs_process) != 0):\n",
    "        xs.append(np.mean(np.asarray(xs_process)))\n",
    "    else:\n",
    "        file_path = f\"{folder}/crossx.html\"\n",
    "        tabla = pd.read_html(file_path)\n",
    "        columna_xs = tabla[0]['Cross section (pb)']\n",
    "        for k in range(len(columna_xs)):\n",
    "            xs_process.append(float(columna_xs[k].split(' ')[0]))\n",
    "        xs.append(np.mean(np.asarray(xs_process)))\n",
    "        \n",
    "xs_tabla = np.transpose(pd.DataFrame(xs))\n",
    "\n",
    "xs_github = np.loadtxt(\"SimulationsPaths.txt\",dtype='str',delimiter=',')\n",
    "xs = []\n",
    "for i in range(len(background)):\n",
    "    for j in range(len(xs_github)):\n",
    "        if(background[i] == xs_github[j][0]):\n",
    "            xs.append(float(xs_github[j][2]))\n",
    "            break\n",
    "            \n",
    "xs_tabla_github = np.transpose(pd.DataFrame(xs))\n",
    "\n",
    "xs = np.concatenate((xs_tabla,xs_tabla_github))\n",
    "\n",
    "razon = np.asmatrix(xs)[0,:]/np.asmatrix(xs)[1,:]\n",
    "xs = np.concatenate((xs, razon))\n",
    "\n",
    "xs = pd.DataFrame(xs)\n",
    "xs.columns = background\n",
    "xs.index = [\"XS (13.6 TeV): \" , \"XS (13.0 TeV): \", \"K:\"]\n",
    "xs.to_excel('/disco4/personal_folders/Joaquin/SM_Backgrounds/XS_Matriz.xlsx')"
   ]
  }
 ],
 "metadata": {
  "kernelspec": {
   "display_name": "Python 3 (ipykernel)",
   "language": "python",
   "name": "python3"
  },
  "language_info": {
   "codemirror_mode": {
    "name": "ipython",
    "version": 3
   },
   "file_extension": ".py",
   "mimetype": "text/x-python",
   "name": "python",
   "nbconvert_exporter": "python",
   "pygments_lexer": "ipython3",
   "version": "3.10.6"
  }
 },
 "nbformat": 4,
 "nbformat_minor": 5
}
