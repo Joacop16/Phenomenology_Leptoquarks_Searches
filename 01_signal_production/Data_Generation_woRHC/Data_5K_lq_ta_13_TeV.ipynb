{
 "cells": [
  {
   "cell_type": "markdown",
   "id": "42ef81ad-412a-472f-a2ff-b49a83ae0f3a",
   "metadata": {},
   "source": [
    "$$\\textrm{Joaquin Peñuela Parra}$$\n",
    "$$\\textrm{University of Los Andes}$$\n",
    "$$\\textrm{High Energy Physics Group: Phenomenology of Particles}$$\n",
    "\n",
    "This code was written to be running in Docker. If you do not have a Docker inside hep-server2 please refer to: https://github.com/Phenomenology-group-uniandes/Tutoriales_Generales\n",
    "\n",
    "$\\textbf{Preliminaries}$ \n",
    "\n",
    "The libraries used here are:"
   ]
  },
  {
   "cell_type": "code",
   "execution_count": null,
   "id": "ce0fd802-3ffb-4340-8a92-00889665150b",
   "metadata": {},
   "outputs": [],
   "source": [
    "import numpy as np\n",
    "import shutil\n",
    "import pandas as pd\n",
    "import glob\n",
    "import os\n",
    "\n",
    "personal_folder = os.path.dirname(os.path.realpath('Data_5K_lq_ta_13_TeV.ipynb'))\n",
    "paramcards_folder = os.path.join(os.path.dirname(os.path.dirname(os.path.realpath('Data_5K_lq_ta_13_TeV.ipynb'))), 'Branching_Ratios_Plot/Paramcards_woRHC')\n",
    "MG5_Path = os.path.relpath('/Collider/MG5_aMC_v3_1_0/bin/mg5_aMC', os.getcwd())"
   ]
  },
  {
   "cell_type": "code",
   "execution_count": null,
   "id": "939c46e4-9e45-42b5-8e13-a3c9a963f558",
   "metadata": {},
   "outputs": [],
   "source": [
    "# M = [\"250\",\"500\",\"750\",\"1000\",\"1250\",\"1500\",\"1750\",\"2000\",\"2250\",\"2500\"]\n",
    "# #g_U = [\"0.25\", \"0.5\", \"1.0\", \"1.5\",\"2.0\", \"2.5\", \"3.0\", \"3.5\"]\n",
    "\n",
    "M = [\"1000\",\"1250\",\"1500\",\"1750\",\"2000\",\"2250\",\"2500\"]\n",
    "g_U = [str (g) for g in np.arange(1/16, 3.5 + 1/16, 1/16)] + [\"1.8\"]"
   ]
  },
  {
   "cell_type": "code",
   "execution_count": null,
   "id": "e6f02929-664b-4f4a-a94e-2728e8a865a0",
   "metadata": {},
   "outputs": [],
   "source": [
    "ruta_modelo = \"/disco1/SIMULACIONES/LeptoQuarks/UFOs/Mod2_VLQ_UFO\""
   ]
  },
  {
   "cell_type": "markdown",
   "id": "c8669ce3-f6c5-40c5-88e2-6951cc2e3c07",
   "metadata": {},
   "source": [
    "### p p > lq ta @0"
   ]
  },
  {
   "cell_type": "code",
   "execution_count": null,
   "id": "f7007e77-573c-464b-aefa-48b60098f762",
   "metadata": {},
   "outputs": [],
   "source": [
    "linea_modelo = \"import model \" + ruta_modelo\n",
    "linea_def1 = \"define lq = vlq vlq~\"\n",
    "linea_def2 = \"define ta = ta+ ta-\"\n",
    "linea_gen = \"generate p p > lq ta @0\"\n",
    "lineas_definiciones = [linea_modelo, linea_def1, linea_def2, linea_gen]\n",
    "\n",
    "lineas_outputs = []\n",
    "for i in range(len(M)):\n",
    "    for j in range(len(g_U)):\n",
    "        name=\"M\" + M[i].replace('.','_') + \"_gU\" + g_U[j].replace('.','_')\n",
    "        path=os.path.join(personal_folder,\"Data_5K_13_TeV\",\"lq_ta\",name)\n",
    "        output_ij = f\"output {path} -no-jpeg\"\n",
    "        lineas_outputs.append(output_ij)\n",
    "lineas = np.concatenate((lineas_definiciones, lineas_outputs))\n",
    "\n",
    "script = open ('folders_data_lq_ta_M_gU_5000.txt','w')\n",
    "script.write(lineas[0])\n",
    "\n",
    "for i in range(1,len(lineas)):\n",
    "    script.write('\\n' + lineas[i])\n",
    "script.close()"
   ]
  },
  {
   "cell_type": "code",
   "execution_count": null,
   "id": "043863e3-34ea-47c4-abdd-d31d4bd9ee79",
   "metadata": {
    "tags": []
   },
   "outputs": [],
   "source": [
    "!{MG5_Path} folders_data_lq_ta_M_gU_5000.txt"
   ]
  },
  {
   "cell_type": "code",
   "execution_count": null,
   "id": "8b332dc2-e6b6-450c-aa47-a4b33635c159",
   "metadata": {},
   "outputs": [],
   "source": [
    "!rm folders_data_lq_ta_M_gU_5000.txt"
   ]
  },
  {
   "cell_type": "code",
   "execution_count": null,
   "id": "f0e7c737-8822-4f09-8885-d4fbacf2b204",
   "metadata": {
    "tags": []
   },
   "outputs": [],
   "source": [
    "!mkdir {personal_folder}/Data_5K_13_TeV/lq_ta/Cross_Sections/\n",
    "!mkdir {personal_folder}/Data_5K_13_TeV/lq_ta/Events/"
   ]
  },
  {
   "cell_type": "code",
   "execution_count": null,
   "id": "2796e514-304e-43e5-9012-ab20b5938b78",
   "metadata": {
    "tags": []
   },
   "outputs": [],
   "source": [
    "seeds = []\n",
    "\n",
    "def semilla():\n",
    "    seed = np.random.randint(1,5000)\n",
    "    if (seed in seeds):\n",
    "        return semilla()\n",
    "    return seed\n",
    "\n",
    "for i in range(len(M)):\n",
    "    for j in range(len(g_U)):\n",
    "\n",
    "        etiqueta = \"M\" + M[i].replace('.','_') + \"_gU\" + g_U[j].replace('.','_')\n",
    "        nombre_script = 'generate_data_lq_ta_' + etiqueta + '_5000.txt'\n",
    "        script = open (nombre_script,'w')\n",
    "\n",
    "        launch = f\"launch {personal_folder}/Data_5K_13_TeV/lq_ta/\" + etiqueta + \" -m\"\n",
    "        nodos = \"10\"\n",
    "        done = \"done\"\n",
    "\n",
    "        seed = semilla()\n",
    "        seeds.append(seed)\n",
    "        param1 = \"set iseed \" + str(seed)\n",
    "        param2 = \"set nevents 1000\"\n",
    "        param3 = \"set cut_decays True\"\n",
    "        param4 = \"set ptb 30\"\n",
    "        param5 = \"set ptj 20\"\n",
    "        param6 = \"set ptl 20\"\n",
    "        param7 = \"set etab 2.5\"\n",
    "\n",
    "        ruta_paramcard = f\"{paramcards_folder}/\" + \"param_card_\" + etiqueta + \".dat\"\n",
    "\n",
    "        lineas = [launch,nodos,done,param1, param2, param3, param4, param5, param6, param7,ruta_paramcard]\n",
    "\n",
    "        script.write(lineas[0])\n",
    "\n",
    "        for k in range(1,len(lineas)):    \n",
    "            script.write('\\n' + lineas[k])\n",
    "\n",
    "        script.close()\n",
    "\n",
    "        !{MG5_Path} {nombre_script}\n",
    "        !rm {nombre_script}\n",
    "\n",
    "        source_folder = f\"{personal_folder}/Data_5K_13_TeV/lq_ta/\" + etiqueta + \"/Events\"\n",
    "        target_folder = f\"{personal_folder}/Data_5K_13_TeV/lq_ta/Events/\" + etiqueta\n",
    "        source_file_xs = f\"{personal_folder}/Data_5K_13_TeV/lq_ta/\" + etiqueta + \"/crossx.html\"\n",
    "        target_file_xs = f\"{personal_folder}/Data_5K_13_TeV/lq_ta/Cross_Sections/crossx_\" + etiqueta + \".html\"\n",
    "\n",
    "        !rm -rf {target_file_xs}\n",
    "        shutil.copy(source_file_xs, target_file_xs)\n",
    "        !mkdir -p {target_folder}\n",
    "        !rsync --modify-window=1 --update --recursive --copy-links {source_folder} {target_folder}                     "
   ]
  },
  {
   "cell_type": "code",
   "execution_count": null,
   "id": "bccbc3a9-c219-402b-91e3-28ccede4ce37",
   "metadata": {},
   "outputs": [],
   "source": [
    "# for i in range(len(M)):\n",
    "#     for j in range(len(g_U)):\n",
    "#         etiqueta = \"M\" + M[i].replace('.','_') + \"_gU\" + g_U[j].replace('.','_')\n",
    "#         folder = \"/disco4/personal_folders/Joaquin/Data_5K_13_TeV/lq_ta/\" + etiqueta\n",
    "        \n",
    "#         subprocesses_folder = folder + \"/SubProcesses/\"\n",
    "#         files = glob.iglob(os.path.join(subprocesses_folder, \"**/*.ps\"))\n",
    "\n",
    "#         for file_path in files:\n",
    "#             if os.path.isfile(file_path):\n",
    "#                 ruta = os.path.dirname(os.path.abspath(file_path))\n",
    "#                 for k in range(len(ruta)):\n",
    "#                     if (ruta[len(ruta) -1 - k] == \"/\"):\n",
    "#                         indice = len(ruta) -1 - k\n",
    "#                         subcarpeta = ruta[indice:]\n",
    "#                         break\n",
    "\n",
    "#                 target_folder = f\"/disco4/personal_folders/Joaquin/Data_5K_13_TeV/lq_ta/SubProcesses/{etiqueta}{subcarpeta}\"\n",
    "#                 !mkdir -p {target_folder}\n",
    "#                 shutil.copy(file_path, target_folder)\n",
    "\n",
    "#                 source_file_config_map = ruta +  \"/config_subproc_map.inc\"\n",
    "#                 target_file_config_map = target_folder +  \"/config_subproc_map.inc\"\n",
    "#                 shutil.copy(source_file_config_map, target_file_config_map)\n",
    "        \n",
    "#         HTML_folder = folder + \"/HTML/\"\n",
    "#         files = glob.iglob(os.path.join(HTML_folder, \"**/results.html\"))\n",
    "\n",
    "#         for file_path in files:\n",
    "#             if os.path.isfile(file_path):\n",
    "#                 ruta = os.path.dirname(os.path.abspath(file_path))\n",
    "#                 for k in range(len(ruta)):\n",
    "#                     if (ruta[len(ruta) -1 - k] == \"/\"):\n",
    "#                         indice = len(ruta) -1 - k\n",
    "#                         subcarpeta = ruta[indice:]\n",
    "#                         break\n",
    "\n",
    "#                 target_folder = f\"/disco4/personal_folders/Joaquin/Data_5K_13_TeV/lq_ta/HTML/{etiqueta}{subcarpeta}\"\n",
    "#                 !mkdir -p {target_folder}\n",
    "#                 shutil.copy(file_path, target_folder)            \n",
    "        \n",
    "#         #shutil.rmtree(folder) #Borra la carpeta con los outputs de MadGraph"
   ]
  },
  {
   "cell_type": "code",
   "execution_count": null,
   "id": "fe380163-a918-42ed-ba39-760988311d06",
   "metadata": {
    "tags": []
   },
   "outputs": [],
   "source": [
    "xs = np.zeros((len(g_U), len(M)))\n",
    "for j in range(len(M)):\n",
    "    for i in range(len(g_U)):\n",
    "        etiqueta = \"M\" + M[j].replace('.','_') + \"_gU\" + g_U[i].replace('.','_')  \n",
    "        \n",
    "        if  g_U[i] == \"1.8\": xs[i,j] = pd.read_csv('SimulationsPaths.csv', index_col= 0)['xs(pb)'][f'Tau_LQ_wo_RHC_{M[j]}']\n",
    "        else:\n",
    "            ruta_tabla = f\"{personal_folder}/Data_5K_13_TeV/lq_ta/Cross_Sections/crossx_\" + etiqueta + \".html\"\n",
    "            tabla_ij = pd.read_html(ruta_tabla)\n",
    "            columna_xs = tabla_ij[0]['Cross section (pb)']\n",
    "            xs[i,j] = float(columna_xs[0].split(' ')[0])         \n",
    "        \n",
    "XS_Matriz = pd.DataFrame(xs)\n",
    "XS_Matriz.columns = M\n",
    "XS_Matriz.index = g_U\n",
    "\n",
    "XS_Matriz.to_excel(f\"{personal_folder}/Data_5K_13_TeV/lq_ta/Cross_Sections/XS_Matriz.xlsx\")\n",
    "XS_Matriz.to_csv(f\"{personal_folder}/Data_5K_13_TeV/lq_ta/Cross_Sections/XS_Matriz.csv\")"
   ]
  },
  {
   "cell_type": "code",
   "execution_count": null,
   "id": "23c4c7ec-38b3-4fbb-87ca-bafeb4e3b854",
   "metadata": {},
   "outputs": [],
   "source": []
  }
 ],
 "metadata": {
  "kernelspec": {
   "display_name": "Python 3 (ipykernel)",
   "language": "python",
   "name": "python3"
  },
  "language_info": {
   "codemirror_mode": {
    "name": "ipython",
    "version": 3
   },
   "file_extension": ".py",
   "mimetype": "text/x-python",
   "name": "python",
   "nbconvert_exporter": "python",
   "pygments_lexer": "ipython3",
   "version": "3.9.4"
  }
 },
 "nbformat": 4,
 "nbformat_minor": 5
}
