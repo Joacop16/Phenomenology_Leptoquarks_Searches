{
 "cells": [
  {
   "cell_type": "markdown",
   "id": "d963b526-716b-4e1f-be37-4f19189081e4",
   "metadata": {},
   "source": [
    "$$\\textrm{Joaquin Peñuela Parra}$$\n",
    "$$\\textrm{University of Los Andes}$$\n",
    "$$\\textrm{High Energy Physics Group: Phenomenology of Particles}$$\n",
    "\n",
    "$\\textbf{Preliminaries}$ \n",
    "\n",
    "The libraries used here are:"
   ]
  },
  {
   "cell_type": "code",
   "execution_count": 1,
   "id": "5f44a2ff-256e-4254-9e78-820aa21c1061",
   "metadata": {},
   "outputs": [],
   "source": [
    "import pandas as pd\n",
    "import numpy as np\n",
    "import os"
   ]
  },
  {
   "cell_type": "code",
   "execution_count": 2,
   "id": "166463d0-0909-40a9-9f92-256fba1f8b5a",
   "metadata": {},
   "outputs": [],
   "source": [
    "folders = ['Data_5K_13_6_TeV', 'Data_5K_13_TeV']"
   ]
  },
  {
   "cell_type": "code",
   "execution_count": 3,
   "id": "0d8590b4-f17b-4301-913d-bbacaa69105f",
   "metadata": {},
   "outputs": [],
   "source": [
    "for folder in folders:\n",
    "    \n",
    "    path_woZP = f'{folder}/ta_ta/Cross_Sections_woZP/XS_Matriz.csv'    \n",
    "    XS_Table_woZP = pd.read_csv(path_woZP, index_col= 0)\n",
    "    XS_Table_woZP.index = [float(row) for row in XS_Table_woZP.index]\n",
    "    XS_Table_woZP.columns = [float(col) for col in XS_Table_woZP.columns]\n",
    "    \n",
    "    path_wZP = f'{folder}/ta_ta/Cross_Sections_wZP/XS_Matriz.csv'\n",
    "    XS_Table_wZP = pd.read_csv(path_wZP, index_col= 0)\n",
    "    XS_Table_wZP.index = [float(row) for row in XS_Table_wZP.index]\n",
    "    XS_Table_wZP.columns = [float(col) for col in XS_Table_wZP.columns]\n",
    "    \n",
    "    XS = XS_Table_wZP.copy()\n",
    "    for col in XS.columns:\n",
    "        for row in XS.index:\n",
    "            if (XS[col][row] < 0.0022): \n",
    "                XS[col][row] = XS_Table_woZP[col][row]\n",
    "    \n",
    "    XS.to_csv(f'{folder}/ta_ta/Cross_Sections/XS_Matriz.csv')"
   ]
  }
 ],
 "metadata": {
  "kernelspec": {
   "display_name": "Python 3 (ipykernel)",
   "language": "python",
   "name": "python3"
  },
  "language_info": {
   "codemirror_mode": {
    "name": "ipython",
    "version": 3
   },
   "file_extension": ".py",
   "mimetype": "text/x-python",
   "name": "python",
   "nbconvert_exporter": "python",
   "pygments_lexer": "ipython3",
   "version": "3.10.6"
  }
 },
 "nbformat": 4,
 "nbformat_minor": 5
}
