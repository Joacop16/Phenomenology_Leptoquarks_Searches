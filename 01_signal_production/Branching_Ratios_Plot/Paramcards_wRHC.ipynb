{
 "cells": [
  {
   "cell_type": "markdown",
   "id": "cd159e4c-f8e3-44ab-b443-4a42f3b71d7d",
   "metadata": {},
   "source": [
    "$$\\textrm{Joaquin Peñuela Parra}$$\n",
    "$$\\textrm{University of Los Andes}$$\n",
    "$$\\textrm{High Energy Physics Group: Phenomenology of Particles}$$\n",
    "\n",
    "This code was written to be running in Docker. If you do not have a Docker inside hep-server2 please refer to: https://github.com/Phenomenology-group-uniandes/Tutoriales_Generales"
   ]
  },
  {
   "cell_type": "code",
   "execution_count": null,
   "id": "e35b164e-f662-49ba-ba3f-e61e88f0a6bf",
   "metadata": {},
   "outputs": [],
   "source": [
    "import numpy as np\n",
    "import shutil\n",
    "import pandas as pd\n",
    "\n",
    "personal_folder=\"/disco4/personal_folders/Joaquin/2023/wRHC\""
   ]
  },
  {
   "cell_type": "code",
   "execution_count": null,
   "id": "d834ba84-9217-482d-a4de-010f25ee1ddc",
   "metadata": {},
   "outputs": [],
   "source": [
    "#M = [\"250\",\"500\",\"750\",\"1000\",\"1250\",\"1500\",\"1750\",\"2000\",\"2250\",\"2500\", \"2750\", \"3000\", \"3250\", \"3500\"]\n",
    "M = ['275', '300', '350', '400', '450', '475', '525', '550','575', '600', '625', '650', '675', '700', '750', '800', '850', '900', '950']\n",
    "g_U = [\"1.8\"]"
   ]
  },
  {
   "cell_type": "code",
   "execution_count": null,
   "id": "c0868305-f533-4b72-b0d3-522c568c2aec",
   "metadata": {},
   "outputs": [],
   "source": [
    "path_model = \"/disco1/SIMULACIONES/LeptoQuarks/UFOs/Mod_VLQ_UFO\""
   ]
  },
  {
   "cell_type": "code",
   "execution_count": null,
   "id": "19a60d2a-8bc3-40af-a031-be6633683294",
   "metadata": {},
   "outputs": [],
   "source": [
    "line_model = \"import model \" + path_model\n",
    "line_def1 = \"define lq = vlq vlq~\"\n",
    "line_def2 = \"define ta = ta+ ta-\"\n",
    "line_gen = \"generate vlq > all all\"\n",
    "lines_definitions = [line_model, line_def1, line_def2, line_gen]\n",
    "\n",
    "lines_outputs = []\n",
    "for i in range(len(M)):\n",
    "    for j in range(len(g_U)):\n",
    "        output_ij = f\"output {personal_folder}/Paramcards_13/\" + \"M\" + M[i].replace('.','_') + \"_gU\" + g_U[j].replace('.','_') + \" -no-jpeg\"\n",
    "        lines_outputs.append(output_ij)\n",
    "        \n",
    "lines = np.concatenate((lines_definitions, lines_outputs))\n",
    "\n",
    "script = open ('folders_paramcards_M_gU_13_wRHC.txt','w')\n",
    "script.write(lines[0])\n",
    "\n",
    "for i in range(1,len(lines)):\n",
    "    script.write('\\n' + lines[i])\n",
    "script.close()"
   ]
  },
  {
   "cell_type": "code",
   "execution_count": null,
   "id": "0cfef6c7-2066-49c8-905b-013aa93ef203",
   "metadata": {
    "tags": []
   },
   "outputs": [],
   "source": [
    "!./../../../../Collider/MG5_aMC_v3_1_0/bin/mg5_aMC folders_paramcards_M_gU_13_wRHC.txt"
   ]
  },
  {
   "cell_type": "code",
   "execution_count": null,
   "id": "f1c22a07-44be-4128-8b97-43266a1c5edc",
   "metadata": {
    "tags": []
   },
   "outputs": [],
   "source": [
    "for i in range(len(M)):\n",
    "    for j in range(len(g_U)):\n",
    "        label = \"M\" + M[i].replace('.','_') + \"_gU\" + g_U[j].replace('.','_')\n",
    "        \n",
    "        nombre_script = 'generate_paramcards_' + label + '_13_wRHC.txt'\n",
    "        script = open (nombre_script,'w')\n",
    "        \n",
    "        launch = f\"launch {personal_folder}/Paramcards_13/\" + label + \" -i\"\n",
    "        \n",
    "        decay = \"calculate_decay_widths\"\n",
    "        param_1 = \"set nevents 10000\"\n",
    "        param_2 = \"set MVLQ \" + M[i] \n",
    "        param_3 = \"set gU \" + g_U[j]\n",
    "        param_4 = \"set betard33 -1\"\n",
    "\n",
    "        lineas = [launch,decay, param_1, param_2, param_3, param_4]\n",
    "        \n",
    "        script.write(lineas[0])\n",
    "            \n",
    "        for k in range(1,len(lineas)):    \n",
    "            script.write('\\n' + lineas[k])\n",
    "            \n",
    "        script.close()\n",
    "        \n",
    "        !./../../../../Collider/MG5_aMC_v3_1_0/bin/mg5_aMC {nombre_script}\n",
    "        !rm {nombre_script}\n",
    "        \n",
    "        source_folder = f\"{personal_folder}/Paramcards_13/\" + label\n",
    "        source_file = f\"{personal_folder}/Paramcards_13/\" + label + \"/Events/run_01/param_card.dat\"\n",
    "        target = f\"{personal_folder}/Paramcards_13/param_card_\" + label + \".dat\"\n",
    "        \n",
    "        shutil.copy(source_file, target)\n",
    "        shutil.rmtree(source_folder) #Borra la carpeta con los outputs de MadGraph"
   ]
  }
 ],
 "metadata": {
  "kernelspec": {
   "display_name": "Python 3 (ipykernel)",
   "language": "python",
   "name": "python3"
  },
  "language_info": {
   "codemirror_mode": {
    "name": "ipython",
    "version": 3
   },
   "file_extension": ".py",
   "mimetype": "text/x-python",
   "name": "python",
   "nbconvert_exporter": "python",
   "pygments_lexer": "ipython3",
   "version": "3.10.6"
  }
 },
 "nbformat": 4,
 "nbformat_minor": 5
}
