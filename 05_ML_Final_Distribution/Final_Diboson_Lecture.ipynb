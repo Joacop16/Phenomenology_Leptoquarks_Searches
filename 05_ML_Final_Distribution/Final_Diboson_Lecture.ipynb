{
 "cells": [
  {
   "cell_type": "markdown",
   "id": "a82977ab-4f7d-4bce-8e5f-c9a86a7b6f3a",
   "metadata": {},
   "source": [
    "$$\\textrm{Joaquin Peñuela Parra}$$\n",
    "$$\\textrm{University of Los Andes}$$\n",
    "$$\\textrm{High Energy Physics Group: Phenomenology of Particles}$$\n",
    "\n",
    "This code was written to be running in Docker. If you do not have a Docker inside hep-server2 please refer to: https://github.com/Phenomenology-group-uniandes/Tutoriales_Generales"
   ]
  },
  {
   "cell_type": "code",
   "execution_count": 1,
   "id": "c7c7fb7d-32ca-451c-a01b-a5375d16cfd8",
   "metadata": {},
   "outputs": [],
   "source": [
    "import os, sys\n",
    "\n",
    "def add_parent_lib_path(name=\"Semanas_07_08_09\"):\n",
    "    sys.path.append(os.path.join(sys.path[0].split(name)[0],name))\n",
    "    \n",
    "add_parent_lib_path()"
   ]
  },
  {
   "cell_type": "code",
   "execution_count": 2,
   "id": "3e63490e-34ba-4dfc-a5ea-552e871b5a07",
   "metadata": {},
   "outputs": [
    {
     "name": "stdout",
     "output_type": "stream",
     "text": [
      "Welcome to JupyROOT 6.22/06\n"
     ]
    }
   ],
   "source": [
    "from Uniandes_Framework.ml_tools import tools\n",
    "from Uniandes_Framework.delphes_reader import root_analysis\n",
    "\n",
    "import pandas as pd\n",
    "\n",
    "from ROOT import TCanvas #Permite poner los histogramas\n",
    "from ROOT import THStack #Permite graficar varios histogramas al mismo tiempo\n",
    "from ROOT import TLegend #Permite poner legends cuando se sobrelapan histogramas\n",
    "from ROOT import TLatex #Permite poner avisos en Latex en las graficas"
   ]
  },
  {
   "cell_type": "code",
   "execution_count": 3,
   "id": "6b9d8899-ab00-4ab3-b015-3da9bdba1018",
   "metadata": {},
   "outputs": [],
   "source": [
    "Path_Leptoquarks_searches = os.path.dirname(os.path.dirname(os.path.realpath('XBG_Discriminator_Histograms.ipynb')))"
   ]
  },
  {
   "cell_type": "code",
   "execution_count": 4,
   "id": "277e6e9f-72a3-4edb-aecc-06197985bb37",
   "metadata": {},
   "outputs": [],
   "source": [
    "channels = {\"hadronic_dLQ\": 'b_b_tau_tau_hadronic', \n",
    "            \"hadronic_sLQ\": 'b_tau_tau_hadronic', \n",
    "            \"semileptonic_dLQ\": 'b_b_tau_tau_semileptonic', \n",
    "            \"semileptonic_sLQ\": 'b_tau_tau_semileptonic'}\n",
    "\n",
    "Masses = ['1250', '1500', '1750', '2000', '2250', '2500']\n",
    "bkgs = ['ww', 'wz', 'zz']"
   ]
  },
  {
   "cell_type": "code",
   "execution_count": 5,
   "id": "60762d6b-2c52-4d3f-a88c-f78461ee973b",
   "metadata": {},
   "outputs": [],
   "source": [
    "def Read_Cutflows_N_Events(channel, signal, Luminosity = 137*1000):\n",
    "    \n",
    "    #[Luminosity]: 1/pb\n",
    "\n",
    "    cutflows_path = os.path.join(Path_Leptoquarks_searches, '03_delphes_preselection/Cutflows', f'{channel}.csv')\n",
    "    cutflows_file = pd.read_csv(cutflows_path, index_col= 0)\n",
    "    cutflows_file = cutflows_file.dropna()\n",
    "    \n",
    "    Efficience = cutflows_file[signal]['DeltaR > 0.3']/cutflows_file[signal]['All']\n",
    "    XS = cutflows_file[signal]['XS']\n",
    "    return Efficience*XS*Luminosity"
   ]
  },
  {
   "cell_type": "code",
   "execution_count": 6,
   "id": "053233ee-6179-4f16-9f7d-27f50fb3a316",
   "metadata": {},
   "outputs": [],
   "source": [
    "histograms = {}\n",
    "\n",
    "for channel in channels:    \n",
    "    histograms[channel] = {}\n",
    "    for Mass in Masses:\n",
    "                \n",
    "        path_root_file = f'/disco4/personal_folders/Joaquin/2023/Semanas_07_08_09/Leptoquarks_Searches_2022/05_refined_ML_output/MLQ_{Mass}/{channels[channel]}/Gradient_Boosting.root'       \n",
    "        histograms[channel][f'M{Mass}'] = root_analysis.Read_ROOT_File(path_root_file, expected_keys = [f'{bkg}_{channels[channel]}' for bkg in bkgs])"
   ]
  },
  {
   "cell_type": "code",
   "execution_count": 7,
   "id": "c567f552-8f2b-408e-a6fe-778b0f8c0b70",
   "metadata": {},
   "outputs": [],
   "source": [
    "# canvas = TCanvas('','',0,0,800,600)"
   ]
  },
  {
   "cell_type": "code",
   "execution_count": 8,
   "id": "0837524b-222b-4758-9d42-fd8bc1f4786e",
   "metadata": {},
   "outputs": [],
   "source": [
    "# histograms['hadronic_dLQ']['M1250']['ww_b_b_tau_tau_hadronic'].Draw('hist')\n",
    "# canvas.Draw()"
   ]
  },
  {
   "cell_type": "code",
   "execution_count": 9,
   "id": "6c69bc84-68ee-4e9f-964e-36c08123185a",
   "metadata": {},
   "outputs": [],
   "source": [
    "for channel in channels:    \n",
    "    for Mass in Masses:   \n",
    "        for signal_key in histograms[channel][f'M{Mass}'].keys():\n",
    "            N_events = Read_Cutflows_N_Events(channel, signal_key.replace(f'_{channels[channel]}',''))\n",
    "            histograms[channel][f'M{Mass}'][signal_key].Scale(N_events/histograms[channel][f'M{Mass}'][signal_key].Integral())"
   ]
  },
  {
   "cell_type": "code",
   "execution_count": 10,
   "id": "a6dc1458-98d2-4c5e-bfcd-755f617cf4a8",
   "metadata": {},
   "outputs": [],
   "source": [
    "# histograms['hadronic_dLQ']['M1250']['ww_b_b_tau_tau_hadronic'].Draw('hist')\n",
    "# canvas.Draw()"
   ]
  },
  {
   "cell_type": "code",
   "execution_count": 11,
   "id": "52b97a5c-1ad3-4f8b-a67b-8ea0edd3727f",
   "metadata": {},
   "outputs": [],
   "source": [
    "# histograms['hadronic_dLQ']['M1250']"
   ]
  },
  {
   "cell_type": "code",
   "execution_count": 12,
   "id": "3d075e19-4cd4-456a-a037-839a1dd9ec6e",
   "metadata": {},
   "outputs": [],
   "source": [
    "histograms_list = {}\n",
    "for channel in channels:    \n",
    "    histograms_list[channel] = {}\n",
    "    for Mass in Masses:\n",
    "        histograms_list[channel][f'M{Mass}'] = [histograms[channel][f'M{Mass}'][signal_key] for signal_key in histograms[channel][f'M{Mass}'].keys()]"
   ]
  },
  {
   "cell_type": "code",
   "execution_count": 13,
   "id": "a386c419-3111-4568-a6af-6b54788b8040",
   "metadata": {},
   "outputs": [],
   "source": [
    "# histograms_list"
   ]
  },
  {
   "cell_type": "code",
   "execution_count": 14,
   "id": "65b26a0c-0178-4ca6-8492-4d150bdb9311",
   "metadata": {},
   "outputs": [],
   "source": [
    "!rm -rf Histograms_Diboson/\n",
    "!mkdir Histograms_Diboson/"
   ]
  },
  {
   "cell_type": "code",
   "execution_count": 15,
   "id": "214c5e6a-2103-4a4c-a5fb-345a572dc383",
   "metadata": {},
   "outputs": [
    {
     "name": "stderr",
     "output_type": "stream",
     "text": [
      "Info in <TCanvas::Print>: png file Histograms_Diboson/hadronic_dLQ/histograms_M1250.png has been created\n",
      "Info in <TCanvas::Print>: png file Histograms_Diboson/hadronic_dLQ/histograms_M1500.png has been created\n",
      "Info in <TCanvas::Print>: png file Histograms_Diboson/hadronic_dLQ/histograms_M1750.png has been created\n",
      "Info in <TCanvas::Print>: png file Histograms_Diboson/hadronic_dLQ/histograms_M2000.png has been created\n",
      "Info in <TCanvas::Print>: png file Histograms_Diboson/hadronic_dLQ/histograms_M2250.png has been created\n",
      "Info in <TCanvas::Print>: png file Histograms_Diboson/hadronic_dLQ/histograms_M2500.png has been created\n",
      "Info in <TCanvas::Print>: png file Histograms_Diboson/hadronic_sLQ/histograms_M1250.png has been created\n",
      "Info in <TCanvas::Print>: png file Histograms_Diboson/hadronic_sLQ/histograms_M1500.png has been created\n",
      "Info in <TCanvas::Print>: png file Histograms_Diboson/hadronic_sLQ/histograms_M1750.png has been created\n",
      "Info in <TCanvas::Print>: png file Histograms_Diboson/hadronic_sLQ/histograms_M2000.png has been created\n",
      "Info in <TCanvas::Print>: png file Histograms_Diboson/hadronic_sLQ/histograms_M2250.png has been created\n",
      "Info in <TCanvas::Print>: png file Histograms_Diboson/hadronic_sLQ/histograms_M2500.png has been created\n",
      "Info in <TCanvas::Print>: png file Histograms_Diboson/semileptonic_dLQ/histograms_M1250.png has been created\n",
      "Info in <TCanvas::Print>: png file Histograms_Diboson/semileptonic_dLQ/histograms_M1500.png has been created\n",
      "Info in <TCanvas::Print>: png file Histograms_Diboson/semileptonic_dLQ/histograms_M1750.png has been created\n",
      "Info in <TCanvas::Print>: png file Histograms_Diboson/semileptonic_dLQ/histograms_M2000.png has been created\n",
      "Info in <TCanvas::Print>: png file Histograms_Diboson/semileptonic_dLQ/histograms_M2250.png has been created\n",
      "Info in <TCanvas::Print>: png file Histograms_Diboson/semileptonic_dLQ/histograms_M2500.png has been created\n",
      "Info in <TCanvas::Print>: png file Histograms_Diboson/semileptonic_sLQ/histograms_M1250.png has been created\n",
      "Info in <TCanvas::Print>: png file Histograms_Diboson/semileptonic_sLQ/histograms_M1500.png has been created\n",
      "Info in <TCanvas::Print>: png file Histograms_Diboson/semileptonic_sLQ/histograms_M1750.png has been created\n",
      "Info in <TCanvas::Print>: png file Histograms_Diboson/semileptonic_sLQ/histograms_M2000.png has been created\n",
      "Info in <TCanvas::Print>: png file Histograms_Diboson/semileptonic_sLQ/histograms_M2250.png has been created\n",
      "Info in <TCanvas::Print>: png file Histograms_Diboson/semileptonic_sLQ/histograms_M2500.png has been created\n"
     ]
    }
   ],
   "source": [
    "histograms_Diboson = {}\n",
    "for channel in channels:   \n",
    "    try: os.mkdir(f'Histograms_Diboson/{channel}')\n",
    "    except: pass\n",
    "\n",
    "    histograms_Diboson[channel] = {}\n",
    "    for Mass in Masses:\n",
    "        histograms_Diboson[channel][f'M{Mass}'] = root_analysis.sum_histos(histograms_list[channel][f'M{Mass}'])\n",
    "        histograms_Diboson[channel][f'M{Mass}'].Scale(1.0/histograms_Diboson[channel][f'M{Mass}'].Integral())\n",
    "        histograms_Diboson[channel][f'M{Mass}'].SetNameTitle(f'Diboson_M{Mass}', f'Diboson_M{Mass}')\n",
    "        \n",
    "    root_analysis.Write_ROOT_File(f'Histograms_Diboson/{channel}/Diboson.root', histograms_Diboson[channel])\n",
    "    root_analysis.Write_txt_file_with_high_per_bin(f'Histograms_Diboson/{channel}/Diboson', histograms_Diboson[channel])\n",
    "    root_analysis.Save_Histograms_png(f'Histograms_Diboson/{channel}', histograms_Diboson[channel], Log_Y= True )"
   ]
  }
 ],
 "metadata": {
  "kernelspec": {
   "display_name": "Python 3 (ipykernel)",
   "language": "python",
   "name": "python3"
  },
  "language_info": {
   "codemirror_mode": {
    "name": "ipython",
    "version": 3
   },
   "file_extension": ".py",
   "mimetype": "text/x-python",
   "name": "python",
   "nbconvert_exporter": "python",
   "pygments_lexer": "ipython3",
   "version": "3.9.4"
  }
 },
 "nbformat": 4,
 "nbformat_minor": 5
}
