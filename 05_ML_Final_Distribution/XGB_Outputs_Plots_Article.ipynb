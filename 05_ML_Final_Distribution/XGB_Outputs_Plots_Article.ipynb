{
 "cells": [
  {
   "cell_type": "markdown",
   "id": "2129b51d-fed3-4243-90fc-618fb3d128ac",
   "metadata": {},
   "source": [
    "$$\\textrm{Joaquin Peñuela Parra}$$\n",
    "$$\\textrm{University of Los Andes}$$\n",
    "$$\\textrm{High Energy Physics Group: Phenomenology of Particles}$$\n",
    "\n",
    "This code was written to be running in Docker. If you do not have a Docker inside hep-server2 please refer to: https://github.com/Phenomenology-group-uniandes/Tutoriales_Generales"
   ]
  },
  {
   "cell_type": "code",
   "execution_count": 1,
   "id": "7fb03143-245b-4ca4-88d7-35e3a44fcf8a",
   "metadata": {},
   "outputs": [],
   "source": [
    "import os, sys\n",
    "\n",
    "def add_parent_lib_path(name=\"Leptoquarks_Searches_2023\"):\n",
    "    sys.path.append(sys.path[0].split(name)[0])\n",
    "    \n",
    "add_parent_lib_path()"
   ]
  },
  {
   "cell_type": "code",
   "execution_count": 2,
   "id": "6c86aefa-16c3-41b0-a173-c4ead236a602",
   "metadata": {},
   "outputs": [
    {
     "name": "stdout",
     "output_type": "stream",
     "text": [
      "Welcome to JupyROOT 6.22/06\n"
     ]
    }
   ],
   "source": [
    "from Uniandes_Framework.ml_tools import tools\n",
    "from Uniandes_Framework.delphes_reader import root_analysis\n",
    "\n",
    "import pandas as pd\n",
    "\n",
    "from ROOT import TCanvas #Permite poner los histogramas\n",
    "from ROOT import THStack #Permite graficar varios histogramas al mismo tiempo\n",
    "from ROOT import TLegend #Permite poner legends cuando se sobrelapan histogramas\n",
    "from ROOT import TLatex #Permite poner avisos en Latex en las graficas"
   ]
  },
  {
   "cell_type": "code",
   "execution_count": 3,
   "id": "7aa195a7-4406-49b0-9a30-b3cedd1b54e9",
   "metadata": {},
   "outputs": [],
   "source": [
    "Path_Leptoquarks_searches = os.path.dirname(os.path.dirname(os.path.realpath('XBG_Outputs_Plots_Article.ipynb')))\n",
    "\n",
    "channels = [\"hadronic_dLQ\", \"hadronic_sLQ\", \"hadronic_non-resonant\", \"semileptonic_dLQ\", \"semileptonic_sLQ\", \"semileptonic_non-resonant\"]\n",
    "signals = ['LQ_LQ', 'Tau_LQ', 'Tau_Tau'] + ['LQ_LQ_wo_RHC', 'Tau_LQ_wo_RHC', 'Tau_Tau_wo_RHC']\n",
    "Masses = [\n",
    "    # \"1000\" ,\n",
    "    # '1250', \n",
    "    '1500', \n",
    "    # '1750', \n",
    "    # '2000', \n",
    "    # '2250', \n",
    "    # '2500'\n",
    "]\n",
    "bkgs = ['ttbar', 'z_jets', 'w_jets', 'stop','ww', 'wz', 'zz']\n",
    "\n",
    "suffix_by_betard = {'wRHC': '', 'woRHC': '_wo_RHC'}\n",
    "header_by_betard = {'wRHC': '#beta_{R} = -1', 'woRHC': '#beta_{R} = 0'}"
   ]
  },
  {
   "cell_type": "code",
   "execution_count": 4,
   "id": "cf46e0ea-55cb-43fb-ba6c-8f42a14dd17c",
   "metadata": {},
   "outputs": [],
   "source": [
    "all_histograms = {}"
   ]
  },
  {
   "cell_type": "code",
   "execution_count": 5,
   "id": "8ee38741-2e32-4289-8130-221c0df2078e",
   "metadata": {},
   "outputs": [],
   "source": [
    "for betard in suffix_by_betard:\n",
    "    all_histograms[betard] = {}\n",
    "\n",
    "    for channel in channels:    \n",
    "        all_histograms[betard][channel] = {}\n",
    "        for Mass in Masses:\n",
    "            path_root_file = os.path.join(f'{Path_Leptoquarks_searches}', '05_ML_Final_Distribution','Histograms', channel,f'M{Mass}', f'All_Histograms.root')   \n",
    "            all_histograms[betard][channel][f'M{Mass}'] = root_analysis.read_root_file(path_root_file, expected_keys = ['Lq Lq', '#tau Lq', '#tau #tau', 'Combined', 't#bar{t}', 'stop', 'Diboson', 'V+jets'])"
   ]
  },
  {
   "cell_type": "code",
   "execution_count": 6,
   "id": "6ec4bc46-ac67-4551-b77a-06a0c9d9f0e0",
   "metadata": {},
   "outputs": [
    {
     "data": {
      "text/plain": [
       "dict_keys(['Lq Lq', '#tau Lq', '#tau #tau', 'Combined', 't#bar{t}', 'stop', 'Diboson', 'V+jets'])"
      ]
     },
     "execution_count": 6,
     "metadata": {},
     "output_type": "execute_result"
    }
   ],
   "source": [
    "all_histograms[betard][channel][f'M{Mass}'].keys()"
   ]
  },
  {
   "cell_type": "code",
   "execution_count": 7,
   "id": "16f5f75e-bf44-4195-b6be-868e253f676a",
   "metadata": {},
   "outputs": [
    {
     "data": {
      "text/plain": [
       "'semileptonic_non-resonant'"
      ]
     },
     "execution_count": 7,
     "metadata": {},
     "output_type": "execute_result"
    }
   ],
   "source": [
    "channel"
   ]
  },
  {
   "cell_type": "code",
   "execution_count": 12,
   "id": "f4b82c57-1ffc-4556-9680-dea2204c2ff6",
   "metadata": {},
   "outputs": [],
   "source": [
    "def Overlap_Histos(Histograms, \n",
    "                   betard,\n",
    "                   channel,\n",
    "                   Mass, \n",
    "                   Title_Plot, \n",
    "                   Signal_to_ignore = '', \n",
    "                   alpha_bkg = 0.05, \n",
    "                   alpha_signal = 0.05, \n",
    "                   Log_Y = False, \n",
    "                   Log_X = True, \n",
    "                   Grid = False):\n",
    "    \n",
    "    #if Stack is False -> Histograms will be normalized by A.U\n",
    "    #if Stack is True -> Histograms will be normalized by number of physical events\n",
    "    \n",
    "    #canvas = TCanvas(Title_Plot, \" \", 0, 0, 1280, 720)\n",
    "    canvas = TCanvas(Title_Plot, \" \", 0, 0, 800, 600)\n",
    "    \n",
    "    #legend = TLegend(0.9,.4,1,.89) #Legend outside the graph\n",
    "    legend = TLegend(0.48,.75,0.87,.89)\n",
    "    legend.SetTextFont(132)                   \n",
    "    legend.SetNColumns(4) \n",
    "    legend.SetHeader('M_{U}' + f'= {int(Mass)/1000} TeV' + ', g_{U} = 1.8' + ', ' + header_by_betard[betard],\"C\")\n",
    "    legend.SetLineWidth(1)\n",
    "    #legend.SetFillStyle(0) #Transparent legend window\n",
    "    \n",
    "    x_axis = 'XGB-Output'\n",
    "    \n",
    "    Histos = THStack('hist', Title_Plot)\n",
    "    \n",
    "    Plotting_Order = ['t#bar{t}', 'stop', 'Diboson', 'V+jets', 'Lq Lq', '#tau Lq', '#tau #tau', 'Combined']\n",
    "    \n",
    "    Dict_Hist = Histograms[betard][channel][f'M{Mass}']\n",
    "    holes = root_analysis.review_holes_in_histograms(Dict_Hist)\n",
    "    \n",
    "    colors = [94,6,3,209,1,2,226,4] #https://root-forum.cern.ch/t/what-is-your-best-way-to-increment-colors/13809\n",
    "    for i, key in enumerate(Plotting_Order):\n",
    "        \n",
    "        if key in holes: histo = root_analysis.fill_holes_in_histogram(Dict_Hist[key])\n",
    "        else: histo = Dict_Hist[key]\n",
    "        \n",
    "        color = colors[i]\n",
    "        histo.SetLineColor(color)\n",
    "        \n",
    "        if key in ['t#bar{t}', 'stop', 'Diboson', 'V+jets']: alpha = alpha_bkg\n",
    "        else: alpha = alpha_signal\n",
    "        histo.SetFillColorAlpha(color, alpha)\n",
    "        histo.SetDirectory(0)  \n",
    "        Histos.Add(histo)\n",
    "        label = key.replace('Lq Lq', 'dLQ').replace('#tau Lq', 'sLQ').replace('#tau #tau', 'non-res').replace('Diboson', 'VV')\n",
    "        legend.AddEntry(histo,label)\n",
    "            \n",
    "    if Log_Y: canvas.SetLogy()\n",
    "    if Log_X: canvas.SetLogx()\n",
    "    if Grid: canvas.SetGrid()\n",
    "        \n",
    "    Histos.Draw(\"histnostack\")\n",
    "    Histos.SetTitle(f'; {x_axis}; A.U')  \n",
    "    \n",
    "    latex = TLatex()\n",
    "    latex.SetNDC()\n",
    "    latex.SetTextSize(0.04)\n",
    "    latex.SetTextFont(22) #https://root.cern.ch/doc/master/classTAttText.html\n",
    "    latex.DrawLatex(0.76,0.92,'#sqrt{s} = 13 TeV')\n",
    "    latex.DrawLatex(0.1,0.92,Title_Plot)\n",
    "\n",
    "    Histos.GetXaxis().SetTitleFont(132)\n",
    "    Histos.GetXaxis().SetLabelFont(132)\n",
    "    Histos.GetYaxis().SetTitleFont(132)\n",
    "    Histos.GetYaxis().SetLabelFont(132)           \n",
    "\n",
    "    canvas.Draw()\n",
    "    legend.Draw('same')\n",
    "    \n",
    "    #Histos.GetXaxis().SetLimits(0.0, float(Mass)*3)          \n",
    "                \n",
    "    return Histos, canvas, legend"
   ]
  },
  {
   "cell_type": "code",
   "execution_count": 13,
   "id": "19e6bbc2-86c9-4073-9454-67efbbe67481",
   "metadata": {},
   "outputs": [
    {
     "data": {
      "image/png": "[encoded data removed]",
      "text/plain": [
       "<IPython.core.display.Image object>"
      ]
     },
     "metadata": {},
     "output_type": "display_data"
    }
   ],
   "source": [
    "Histos, canvas, legend = Overlap_Histos(Histograms= all_histograms, \n",
    "                                       betard = 'wRHC',\n",
    "                                       channel = \"hadronic_dLQ\",\n",
    "                                       Mass = '1500', \n",
    "                                       Title_Plot = '', \n",
    "                                       Signal_to_ignore = '', \n",
    "                                       alpha_bkg = 0.0, \n",
    "                                       alpha_signal = 0.00, \n",
    "                                       Log_Y = True, \n",
    "                                       Log_X = False, \n",
    "                                       Grid = False)\n",
    "\n",
    "Histos.SetTitle('; sT [TeV]; A.U') \n",
    "Histos.GetXaxis().CenterTitle(True)\n",
    "Histos.GetYaxis().CenterTitle(True)\n",
    "\n",
    "Histos.GetXaxis().SetTitleSize(0.05)\n",
    "Histos.GetYaxis().SetTitleSize(0.05)\n",
    "Histos.GetXaxis().SetLabelSize(0.04)\n",
    "Histos.GetYaxis().SetLabelSize(0.04)\n",
    "\n",
    "Histos.GetXaxis().SetLabelOffset(0.01)\n",
    "Histos.GetYaxis().SetLabelOffset(0.0001)\n",
    "Histos.GetXaxis().SetTitleOffset(1.0)\n",
    "Histos.GetYaxis().SetTitleOffset(0.95)\n",
    "\n",
    "Histos.GetXaxis().SetMaxDigits(2)\n",
    "Histos.GetYaxis().SetMaxDigits(1)    "
   ]
  },
  {
   "cell_type": "code",
   "execution_count": 14,
   "id": "57bc1a32-e470-49d8-bd0e-67f824e607f2",
   "metadata": {},
   "outputs": [
    {
     "name": "stderr",
     "output_type": "stream",
     "text": [
      "Info in <TCanvas::Print>: pdf file Article_Histograms/ML_hadronic_dLQ_wRHC.pdf has been created\n",
      "Warning in <TCanvas::Constructor>: Deleting canvas with same name: b b #tau_{h} #tau_{h}\n",
      "Info in <TCanvas::Print>: pdf file Article_Histograms/ML_hadronic_dLQ_woRHC.pdf has been created\n",
      "Info in <TCanvas::Print>: pdf file Article_Histograms/ML_hadronic_sLQ_wRHC.pdf has been created\n",
      "Warning in <TCanvas::Constructor>: Deleting canvas with same name: b #tau_{h} #tau_{h}\n",
      "Info in <TCanvas::Print>: pdf file Article_Histograms/ML_hadronic_sLQ_woRHC.pdf has been created\n",
      "Info in <TCanvas::Print>: pdf file Article_Histograms/ML_hadronic_non-resonant_wRHC.pdf has been created\n",
      "Warning in <TCanvas::Constructor>: Deleting canvas with same name: #tau_{h} #tau_{h}\n",
      "Info in <TCanvas::Print>: pdf file Article_Histograms/ML_hadronic_non-resonant_woRHC.pdf has been created\n",
      "Info in <TCanvas::Print>: pdf file Article_Histograms/ML_semileptonic_dLQ_wRHC.pdf has been created\n",
      "Warning in <TCanvas::Constructor>: Deleting canvas with same name: b b #tau_{h} #tau_{lep}\n",
      "Info in <TCanvas::Print>: pdf file Article_Histograms/ML_semileptonic_dLQ_woRHC.pdf has been created\n",
      "Info in <TCanvas::Print>: pdf file Article_Histograms/ML_semileptonic_sLQ_wRHC.pdf has been created\n",
      "Warning in <TCanvas::Constructor>: Deleting canvas with same name: b #tau_{h} #tau_{lep}\n",
      "Info in <TCanvas::Print>: pdf file Article_Histograms/ML_semileptonic_sLQ_woRHC.pdf has been created\n",
      "Info in <TCanvas::Print>: pdf file Article_Histograms/ML_semileptonic_non-resonant_wRHC.pdf has been created\n",
      "Warning in <TCanvas::Constructor>: Deleting canvas with same name: #tau_{h} #tau_{lep}\n",
      "Info in <TCanvas::Print>: pdf file Article_Histograms/ML_semileptonic_non-resonant_woRHC.pdf has been created\n"
     ]
    },
    {
     "data": {
      "image/png": "[encoded data removed]",
      "text/plain": [
       "<IPython.core.display.Image object>"
      ]
     },
     "metadata": {},
     "output_type": "display_data"
    }
   ],
   "source": [
    "try: os.mkdir('Article_Histograms')\n",
    "except: pass\n",
    "\n",
    "M = '1500'\n",
    "\n",
    "for process in channels:\n",
    "\n",
    "    if (process == 'hadronic_non-resonant'): titulo = '#tau_{h} #tau_{h}'\n",
    "    if (process == 'hadronic_sLQ'): titulo = 'b #tau_{h} #tau_{h}'\n",
    "    if (process == 'hadronic_dLQ'): titulo = 'b b #tau_{h} #tau_{h}'\n",
    "    if (process == 'semileptonic_non-resonant'): titulo = '#tau_{h} #tau_{lep}'\n",
    "    if (process == 'semileptonic_sLQ'): titulo = 'b #tau_{h} #tau_{lep}'\n",
    "    if (process == 'semileptonic_dLQ'): titulo = 'b b #tau_{h} #tau_{lep}' \n",
    "\n",
    "    Histos, canvas, legend = Overlap_Histos(Histograms = all_histograms, \n",
    "                                   betard = 'wRHC',\n",
    "                                   channel = process,\n",
    "                                   Mass = M, \n",
    "                                   Title_Plot = titulo, \n",
    "                                   Signal_to_ignore = '', \n",
    "                                   alpha_bkg = 0.0, \n",
    "                                   alpha_signal = 0.00, \n",
    "                                   Log_Y = True, \n",
    "                                   Log_X = False, \n",
    "                                   Grid = False)\n",
    "\n",
    "    Histos.GetXaxis().CenterTitle(True)\n",
    "    Histos.GetYaxis().CenterTitle(True)\n",
    "    \n",
    "    Histos.GetXaxis().SetTitleSize(0.05)\n",
    "    Histos.GetYaxis().SetTitleSize(0.05)\n",
    "    Histos.GetXaxis().SetLabelSize(0.04)\n",
    "    Histos.GetYaxis().SetLabelSize(0.04)\n",
    "    \n",
    "    Histos.GetXaxis().SetLabelOffset(0.01)\n",
    "    Histos.GetYaxis().SetLabelOffset(0.0001)\n",
    "    Histos.GetXaxis().SetTitleOffset(1.0)\n",
    "    Histos.GetYaxis().SetTitleOffset(0.95)\n",
    "    \n",
    "    Histos.GetXaxis().SetMaxDigits(2)\n",
    "    Histos.GetYaxis().SetMaxDigits(1)    \n",
    "\n",
    "    canvas.SaveAs(os.path.join('Article_Histograms', f'ML_{process}_wRHC.pdf')) \n",
    "    \n",
    "    Histos, canvas, legend = Overlap_Histos(Histograms = all_histograms, \n",
    "                                   betard = 'woRHC',\n",
    "                                   channel = process,\n",
    "                                   Mass = M, \n",
    "                                   Title_Plot = titulo, \n",
    "                                   Signal_to_ignore = '', \n",
    "                                   alpha_bkg = 0.0, \n",
    "                                   alpha_signal = 0.00, \n",
    "                                   Log_Y = True, \n",
    "                                   Log_X = False, \n",
    "                                   Grid = False)\n",
    "\n",
    "    Histos.GetXaxis().CenterTitle(True)\n",
    "    Histos.GetYaxis().CenterTitle(True)\n",
    "    \n",
    "    Histos.GetXaxis().SetTitleSize(0.05)\n",
    "    Histos.GetYaxis().SetTitleSize(0.05)\n",
    "    Histos.GetXaxis().SetLabelSize(0.04)\n",
    "    Histos.GetYaxis().SetLabelSize(0.04)\n",
    "    \n",
    "    Histos.GetXaxis().SetLabelOffset(0.01)\n",
    "    Histos.GetYaxis().SetLabelOffset(0.0001)\n",
    "    Histos.GetXaxis().SetTitleOffset(1.0)\n",
    "    Histos.GetYaxis().SetTitleOffset(0.95)\n",
    "    \n",
    "    Histos.GetXaxis().SetMaxDigits(2)\n",
    "    Histos.GetYaxis().SetMaxDigits(1)    \n",
    "    \n",
    "    canvas.SaveAs(os.path.join('Article_Histograms', f'ML_{process}_woRHC.pdf')) "
   ]
  },
  {
   "cell_type": "code",
   "execution_count": 11,
   "id": "5b5dbadd-b831-4676-8f1e-3ad47dd466c4",
   "metadata": {},
   "outputs": [
    {
     "data": {
      "text/plain": [
       "0.001"
      ]
     },
     "execution_count": 11,
     "metadata": {},
     "output_type": "execute_result"
    }
   ],
   "source": [
    "10e-4"
   ]
  },
  {
   "cell_type": "code",
   "execution_count": null,
   "id": "dc018ce6-9280-4067-a928-09338d970c3c",
   "metadata": {},
   "outputs": [],
   "source": []
  }
 ],
 "metadata": {
  "kernelspec": {
   "display_name": "Python 3 (ipykernel)",
   "language": "python",
   "name": "python3"
  },
  "language_info": {
   "codemirror_mode": {
    "name": "ipython",
    "version": 3
   },
   "file_extension": ".py",
   "mimetype": "text/x-python",
   "name": "python",
   "nbconvert_exporter": "python",
   "pygments_lexer": "ipython3",
   "version": "3.9.4"
  }
 },
 "nbformat": 4,
 "nbformat_minor": 5
}
